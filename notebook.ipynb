{
 "cells": [
  {
   "cell_type": "markdown",
   "id": "2045b8ca",
   "metadata": {},
   "source": [
    "#### 07/30/23\n",
    "\n",
    "#### Joshua Edelstein\n",
    "\n",
    "# Loan Default\n",
    "\n",
    "## Overview\n",
    "background on loans, and banks offering them, and defaulting on loans\n",
    "\n",
    "## Business Understanding\n",
    "Bank XYZ is smaller end bank who has a good customer base but is struggling with loan defaults ... \n",
    "False positive(precision) predict pay back when wont vs false negative(recall) predict wont pay back when do. here precision is more important bc its worse to lose money from a loan, then to turn away a customer.\n",
    "\n",
    "<div>\n",
    "<img src=\"Images/inside_bank1.jpg\", width = 800, height = 400/>\n",
    "</div>\n",
    "\n",
    "## Data Understanding\n",
    "\n",
    "data source and background: https://www.kaggle.com/datasets/mirbektoktogaraev/should-this-loan-be-approved-or-denied\n",
    "\n",
    "Let's do some EDA to find out more about are data. We'll begin by importing all the necessary packages, load our data into a pandas dataframe and preview the first 5 rows\n"
   ]
  },
  {
   "cell_type": "code",
   "execution_count": 145,
   "id": "f50277d4",
   "metadata": {
    "scrolled": true
   },
   "outputs": [],
   "source": [
    "import pandas as pd\n",
    "import numpy as np\n",
    "from datetime import datetime\n",
    "import matplotlib.pyplot as plt\n",
    "%matplotlib inline\n",
    "import seaborn as sns\n",
    "\n",
    "# Filtering future warnings\n",
    "import warnings\n",
    "warnings.filterwarnings('ignore')\n",
    "\n",
    "from sklearn.impute import KNNImputer\n",
    "from sklearn.preprocessing import OneHotEncoder\n",
    "from sklearn.model_selection import train_test_split\n",
    "from sklearn.tree import DecisionTreeClassifier\n",
    "from sklearn.metrics import f1_score\n",
    "from sklearn.metrics import roc_curve, auc\n",
    "from sklearn.metrics import classification_report, confusion_matrix\n",
    "\n",
    "from imblearn.under_sampling import RandomUnderSampler"
   ]
  },
  {
   "cell_type": "code",
   "execution_count": 4,
   "id": "4c9ad60c",
   "metadata": {
    "scrolled": true
   },
   "outputs": [
    {
     "name": "stderr",
     "output_type": "stream",
     "text": [
      "/var/folders/kl/1td686bd539f1dpck8lw65900000gn/T/ipykernel_24839/2298317485.py:1: DtypeWarning: Columns (9) have mixed types. Specify dtype option on import or set low_memory=False.\n",
      "  data = pd.read_csv('data/SBAnational.csv')\n"
     ]
    }
   ],
   "source": [
    "data = pd.read_csv('data/SBAnational.csv')"
   ]
  },
  {
   "cell_type": "code",
   "execution_count": 19,
   "id": "0bf12781",
   "metadata": {},
   "outputs": [],
   "source": [
    "loan_df = data.copy()"
   ]
  },
  {
   "cell_type": "code",
   "execution_count": 20,
   "id": "365a0d2e",
   "metadata": {
    "scrolled": false
   },
   "outputs": [
    {
     "data": {
      "text/html": [
       "<div>\n",
       "<style scoped>\n",
       "    .dataframe tbody tr th:only-of-type {\n",
       "        vertical-align: middle;\n",
       "    }\n",
       "\n",
       "    .dataframe tbody tr th {\n",
       "        vertical-align: top;\n",
       "    }\n",
       "\n",
       "    .dataframe thead th {\n",
       "        text-align: right;\n",
       "    }\n",
       "</style>\n",
       "<table border=\"1\" class=\"dataframe\">\n",
       "  <thead>\n",
       "    <tr style=\"text-align: right;\">\n",
       "      <th></th>\n",
       "      <th>LoanNr_ChkDgt</th>\n",
       "      <th>Name</th>\n",
       "      <th>City</th>\n",
       "      <th>State</th>\n",
       "      <th>Zip</th>\n",
       "      <th>Bank</th>\n",
       "      <th>BankState</th>\n",
       "      <th>NAICS</th>\n",
       "      <th>ApprovalDate</th>\n",
       "      <th>ApprovalFY</th>\n",
       "      <th>...</th>\n",
       "      <th>RevLineCr</th>\n",
       "      <th>LowDoc</th>\n",
       "      <th>ChgOffDate</th>\n",
       "      <th>DisbursementDate</th>\n",
       "      <th>DisbursementGross</th>\n",
       "      <th>BalanceGross</th>\n",
       "      <th>MIS_Status</th>\n",
       "      <th>ChgOffPrinGr</th>\n",
       "      <th>GrAppv</th>\n",
       "      <th>SBA_Appv</th>\n",
       "    </tr>\n",
       "  </thead>\n",
       "  <tbody>\n",
       "    <tr>\n",
       "      <th>0</th>\n",
       "      <td>1000014003</td>\n",
       "      <td>ABC HOBBYCRAFT</td>\n",
       "      <td>EVANSVILLE</td>\n",
       "      <td>IN</td>\n",
       "      <td>47711</td>\n",
       "      <td>FIFTH THIRD BANK</td>\n",
       "      <td>OH</td>\n",
       "      <td>451120</td>\n",
       "      <td>28-Feb-97</td>\n",
       "      <td>1997</td>\n",
       "      <td>...</td>\n",
       "      <td>N</td>\n",
       "      <td>Y</td>\n",
       "      <td>NaN</td>\n",
       "      <td>28-Feb-99</td>\n",
       "      <td>$60,000.00</td>\n",
       "      <td>$0.00</td>\n",
       "      <td>P I F</td>\n",
       "      <td>$0.00</td>\n",
       "      <td>$60,000.00</td>\n",
       "      <td>$48,000.00</td>\n",
       "    </tr>\n",
       "    <tr>\n",
       "      <th>1</th>\n",
       "      <td>1000024006</td>\n",
       "      <td>LANDMARK BAR &amp; GRILLE (THE)</td>\n",
       "      <td>NEW PARIS</td>\n",
       "      <td>IN</td>\n",
       "      <td>46526</td>\n",
       "      <td>1ST SOURCE BANK</td>\n",
       "      <td>IN</td>\n",
       "      <td>722410</td>\n",
       "      <td>28-Feb-97</td>\n",
       "      <td>1997</td>\n",
       "      <td>...</td>\n",
       "      <td>N</td>\n",
       "      <td>Y</td>\n",
       "      <td>NaN</td>\n",
       "      <td>31-May-97</td>\n",
       "      <td>$40,000.00</td>\n",
       "      <td>$0.00</td>\n",
       "      <td>P I F</td>\n",
       "      <td>$0.00</td>\n",
       "      <td>$40,000.00</td>\n",
       "      <td>$32,000.00</td>\n",
       "    </tr>\n",
       "    <tr>\n",
       "      <th>2</th>\n",
       "      <td>1000034009</td>\n",
       "      <td>WHITLOCK DDS, TODD M.</td>\n",
       "      <td>BLOOMINGTON</td>\n",
       "      <td>IN</td>\n",
       "      <td>47401</td>\n",
       "      <td>GRANT COUNTY STATE BANK</td>\n",
       "      <td>IN</td>\n",
       "      <td>621210</td>\n",
       "      <td>28-Feb-97</td>\n",
       "      <td>1997</td>\n",
       "      <td>...</td>\n",
       "      <td>N</td>\n",
       "      <td>N</td>\n",
       "      <td>NaN</td>\n",
       "      <td>31-Dec-97</td>\n",
       "      <td>$287,000.00</td>\n",
       "      <td>$0.00</td>\n",
       "      <td>P I F</td>\n",
       "      <td>$0.00</td>\n",
       "      <td>$287,000.00</td>\n",
       "      <td>$215,250.00</td>\n",
       "    </tr>\n",
       "    <tr>\n",
       "      <th>3</th>\n",
       "      <td>1000044001</td>\n",
       "      <td>BIG BUCKS PAWN &amp; JEWELRY, LLC</td>\n",
       "      <td>BROKEN ARROW</td>\n",
       "      <td>OK</td>\n",
       "      <td>74012</td>\n",
       "      <td>1ST NATL BK &amp; TR CO OF BROKEN</td>\n",
       "      <td>OK</td>\n",
       "      <td>0</td>\n",
       "      <td>28-Feb-97</td>\n",
       "      <td>1997</td>\n",
       "      <td>...</td>\n",
       "      <td>N</td>\n",
       "      <td>Y</td>\n",
       "      <td>NaN</td>\n",
       "      <td>30-Jun-97</td>\n",
       "      <td>$35,000.00</td>\n",
       "      <td>$0.00</td>\n",
       "      <td>P I F</td>\n",
       "      <td>$0.00</td>\n",
       "      <td>$35,000.00</td>\n",
       "      <td>$28,000.00</td>\n",
       "    </tr>\n",
       "    <tr>\n",
       "      <th>4</th>\n",
       "      <td>1000054004</td>\n",
       "      <td>ANASTASIA CONFECTIONS, INC.</td>\n",
       "      <td>ORLANDO</td>\n",
       "      <td>FL</td>\n",
       "      <td>32801</td>\n",
       "      <td>FLORIDA BUS. DEVEL CORP</td>\n",
       "      <td>FL</td>\n",
       "      <td>0</td>\n",
       "      <td>28-Feb-97</td>\n",
       "      <td>1997</td>\n",
       "      <td>...</td>\n",
       "      <td>N</td>\n",
       "      <td>N</td>\n",
       "      <td>NaN</td>\n",
       "      <td>14-May-97</td>\n",
       "      <td>$229,000.00</td>\n",
       "      <td>$0.00</td>\n",
       "      <td>P I F</td>\n",
       "      <td>$0.00</td>\n",
       "      <td>$229,000.00</td>\n",
       "      <td>$229,000.00</td>\n",
       "    </tr>\n",
       "  </tbody>\n",
       "</table>\n",
       "<p>5 rows × 27 columns</p>\n",
       "</div>"
      ],
      "text/plain": [
       "   LoanNr_ChkDgt                           Name          City State    Zip  \\\n",
       "0     1000014003                 ABC HOBBYCRAFT    EVANSVILLE    IN  47711   \n",
       "1     1000024006    LANDMARK BAR & GRILLE (THE)     NEW PARIS    IN  46526   \n",
       "2     1000034009          WHITLOCK DDS, TODD M.   BLOOMINGTON    IN  47401   \n",
       "3     1000044001  BIG BUCKS PAWN & JEWELRY, LLC  BROKEN ARROW    OK  74012   \n",
       "4     1000054004    ANASTASIA CONFECTIONS, INC.       ORLANDO    FL  32801   \n",
       "\n",
       "                            Bank BankState   NAICS ApprovalDate ApprovalFY  \\\n",
       "0               FIFTH THIRD BANK        OH  451120    28-Feb-97       1997   \n",
       "1                1ST SOURCE BANK        IN  722410    28-Feb-97       1997   \n",
       "2        GRANT COUNTY STATE BANK        IN  621210    28-Feb-97       1997   \n",
       "3  1ST NATL BK & TR CO OF BROKEN        OK       0    28-Feb-97       1997   \n",
       "4        FLORIDA BUS. DEVEL CORP        FL       0    28-Feb-97       1997   \n",
       "\n",
       "   ...  RevLineCr  LowDoc  ChgOffDate  DisbursementDate  DisbursementGross  \\\n",
       "0  ...          N       Y         NaN         28-Feb-99        $60,000.00    \n",
       "1  ...          N       Y         NaN         31-May-97        $40,000.00    \n",
       "2  ...          N       N         NaN         31-Dec-97       $287,000.00    \n",
       "3  ...          N       Y         NaN         30-Jun-97        $35,000.00    \n",
       "4  ...          N       N         NaN         14-May-97       $229,000.00    \n",
       "\n",
       "   BalanceGross  MIS_Status ChgOffPrinGr        GrAppv      SBA_Appv  \n",
       "0        $0.00        P I F       $0.00    $60,000.00    $48,000.00   \n",
       "1        $0.00        P I F       $0.00    $40,000.00    $32,000.00   \n",
       "2        $0.00        P I F       $0.00   $287,000.00   $215,250.00   \n",
       "3        $0.00        P I F       $0.00    $35,000.00    $28,000.00   \n",
       "4        $0.00        P I F       $0.00   $229,000.00   $229,000.00   \n",
       "\n",
       "[5 rows x 27 columns]"
      ]
     },
     "execution_count": 20,
     "metadata": {},
     "output_type": "execute_result"
    }
   ],
   "source": [
    "loan_df.head()"
   ]
  },
  {
   "cell_type": "markdown",
   "id": "23a61681",
   "metadata": {},
   "source": [
    "Now let's take a look at all the columns"
   ]
  },
  {
   "cell_type": "code",
   "execution_count": 21,
   "id": "32e82529",
   "metadata": {
    "scrolled": false
   },
   "outputs": [
    {
     "name": "stdout",
     "output_type": "stream",
     "text": [
      "<class 'pandas.core.frame.DataFrame'>\n",
      "RangeIndex: 899164 entries, 0 to 899163\n",
      "Data columns (total 27 columns):\n",
      " #   Column             Non-Null Count   Dtype  \n",
      "---  ------             --------------   -----  \n",
      " 0   LoanNr_ChkDgt      899164 non-null  int64  \n",
      " 1   Name               899150 non-null  object \n",
      " 2   City               899134 non-null  object \n",
      " 3   State              899150 non-null  object \n",
      " 4   Zip                899164 non-null  int64  \n",
      " 5   Bank               897605 non-null  object \n",
      " 6   BankState          897598 non-null  object \n",
      " 7   NAICS              899164 non-null  int64  \n",
      " 8   ApprovalDate       899164 non-null  object \n",
      " 9   ApprovalFY         899164 non-null  object \n",
      " 10  Term               899164 non-null  int64  \n",
      " 11  NoEmp              899164 non-null  int64  \n",
      " 12  NewExist           899028 non-null  float64\n",
      " 13  CreateJob          899164 non-null  int64  \n",
      " 14  RetainedJob        899164 non-null  int64  \n",
      " 15  FranchiseCode      899164 non-null  int64  \n",
      " 16  UrbanRural         899164 non-null  int64  \n",
      " 17  RevLineCr          894636 non-null  object \n",
      " 18  LowDoc             896582 non-null  object \n",
      " 19  ChgOffDate         162699 non-null  object \n",
      " 20  DisbursementDate   896796 non-null  object \n",
      " 21  DisbursementGross  899164 non-null  object \n",
      " 22  BalanceGross       899164 non-null  object \n",
      " 23  MIS_Status         897167 non-null  object \n",
      " 24  ChgOffPrinGr       899164 non-null  object \n",
      " 25  GrAppv             899164 non-null  object \n",
      " 26  SBA_Appv           899164 non-null  object \n",
      "dtypes: float64(1), int64(9), object(17)\n",
      "memory usage: 185.2+ MB\n"
     ]
    }
   ],
   "source": [
    "loan_df.info()"
   ]
  },
  {
   "cell_type": "markdown",
   "id": "1c6c56fa",
   "metadata": {},
   "source": [
    "We see that this is a very large dataframe, with around 900,000 rows and 26 columns. The column `MIS_Status` is our target column, which indicates whether the loan was paid back or not. We can also see that our dataframe has a solid amount of both int and object types. Being that many of many of the columns are in the wrong format, and have the wrong datatype we will need to perform some cleaning before we do our EDA\n",
    "\n",
    "## Preprocessing\n",
    "Let's start with the date values, which include: `ApprovalDate`, which is the date the loan was approved; `DisbursmentDate`, the date the loan was actually given; `ChgOffDate` which is the date the loan was declared in default. Let's format these properly by turning them into datetime."
   ]
  },
  {
   "cell_type": "code",
   "execution_count": 22,
   "id": "2218d7af",
   "metadata": {},
   "outputs": [],
   "source": [
    "#code from: https://www.kaggle.com/code/ricardocolindres/loan-default-prediction-loan-parameter-optimizer\n",
    "# pandas will assume all years that are only the last 2 digits are after 2000. \n",
    "#So we need to reformat the year\n",
    "def get_date(x):\n",
    "    if type(x) == float:\n",
    "        return None\n",
    "    else:\n",
    "        date = x.split('-')\n",
    "        year = date[2] \n",
    "        if year == '00':\n",
    "            year = '20' + year\n",
    "        elif year == '20':\n",
    "            year = '20' + '00'\n",
    "        elif int(year) > 20:\n",
    "            year = '19' + year\n",
    "        else:\n",
    "            year = '20' + year\n",
    "        return f'{date[0]}-{date[1]}-{year}'\n",
    "\n",
    "# Convert datetime fields into proper data type and apply get_date function\n",
    "loan_df['approval_date'] = pd.to_datetime(loan_df['ApprovalDate'].apply(get_date))\n",
    "loan_df['disbursement_date'] = pd.to_datetime(loan_df['DisbursementDate'].apply(get_date))\n",
    "loan_df['chg_off_date'] = pd.to_datetime(loan_df['ChgOffDate'].apply(get_date))"
   ]
  },
  {
   "cell_type": "code",
   "execution_count": 23,
   "id": "b4738319",
   "metadata": {
    "scrolled": true
   },
   "outputs": [
    {
     "name": "stdout",
     "output_type": "stream",
     "text": [
      "0   1997-02-28\n",
      "1   1997-02-28\n",
      "2   1997-02-28\n",
      "3   1997-02-28\n",
      "4   1997-02-28\n",
      "Name: approval_date, dtype: datetime64[ns]\n",
      "0   1999-02-28\n",
      "1   1997-05-31\n",
      "2   1997-12-31\n",
      "3   1997-06-30\n",
      "4   1997-05-14\n",
      "Name: disbursement_date, dtype: datetime64[ns]\n",
      "0   NaT\n",
      "1   NaT\n",
      "2   NaT\n",
      "3   NaT\n",
      "4   NaT\n",
      "Name: chg_off_date, dtype: datetime64[ns]\n"
     ]
    }
   ],
   "source": [
    "#sample the new columns\n",
    "print(loan_df['approval_date'].head())\n",
    "print(loan_df['disbursement_date'].head())\n",
    "print(loan_df['chg_off_date'].head())"
   ]
  },
  {
   "cell_type": "markdown",
   "id": "c95b941b",
   "metadata": {},
   "source": [
    "All of the columns look good. Being that most of the `chg_off_date` columns are null that result also makes sense. \n",
    "\n",
    "For all the rows the disbursement date must be after the date the loan was approved, let's confirm if this is true"
   ]
  },
  {
   "cell_type": "code",
   "execution_count": 24,
   "id": "c793a519",
   "metadata": {
    "scrolled": true
   },
   "outputs": [
    {
     "name": "stdout",
     "output_type": "stream",
     "text": [
      "is_disbursement_later\n",
      "True     895987\n",
      "False      3177\n",
      "Name: count, dtype: int64\n",
      "is_disbursement_later\n",
      "True     99.646672\n",
      "False     0.353328\n",
      "Name: proportion, dtype: float64\n"
     ]
    }
   ],
   "source": [
    "#create boolean values if disbursement date is later\n",
    "loan_df['is_disbursement_later'] = loan_df['disbursement_date'] >= loan_df['approval_date']\n",
    "\n",
    "#print value counts normally and as percentages\n",
    "print(loan_df['is_disbursement_later'].value_counts())\n",
    "print(loan_df['is_disbursement_later'].value_counts(normalize=True) * 100)"
   ]
  },
  {
   "cell_type": "markdown",
   "id": "ccaad933",
   "metadata": {},
   "source": [
    "We see that there are some rows where the disbursement date was earlier. Since it's such a small percentage of the overall data, let's go ahead and drop those rows, as there may be additional input inaccuracies."
   ]
  },
  {
   "cell_type": "code",
   "execution_count": 25,
   "id": "13c46c16",
   "metadata": {},
   "outputs": [
    {
     "data": {
      "text/plain": [
       "895987"
      ]
     },
     "execution_count": 25,
     "metadata": {},
     "output_type": "execute_result"
    }
   ],
   "source": [
    "#drop rows with earlier disbursement date\n",
    "loan_df = loan_df[loan_df['disbursement_date'] >= loan_df['approval_date']]\n",
    "len(loan_df)"
   ]
  },
  {
   "cell_type": "markdown",
   "id": "c5df1707",
   "metadata": {},
   "source": [
    "Being that we in certain cases it may be easier to work with years for modeling, let's pull out the year from the `approved_year` column as well as the `disbursement_date` and `chg_off_date` columns."
   ]
  },
  {
   "cell_type": "code",
   "execution_count": 26,
   "id": "fd93fc67",
   "metadata": {},
   "outputs": [],
   "source": [
    "# Get the year from approval_date and chg_off_date\n",
    "loan_df['approval_year'] = loan_df['approval_date'].apply(lambda x: int(x.year))\n",
    "loan_df['disbursement_year'] = loan_df['disbursement_date'].apply(lambda x: int(x.year))\n",
    "loan_df['chg_off_year'] = loan_df['chg_off_date'].apply(lambda x: int(x.year) if not x is pd.NaT else None).astype('Int64')"
   ]
  },
  {
   "cell_type": "markdown",
   "id": "07a3cc56",
   "metadata": {},
   "source": [
    "Now let's drop all the columns we for sure don't need at this point."
   ]
  },
  {
   "cell_type": "code",
   "execution_count": 27,
   "id": "e44343cb",
   "metadata": {},
   "outputs": [],
   "source": [
    "loan_df = loan_df.drop(['DisbursementDate', 'ApprovalDate',\n",
    "                        'ChgOffDate', 'ApprovalFY', 'is_disbursement_later'], axis=1) "
   ]
  },
  {
   "cell_type": "markdown",
   "id": "29943ee1",
   "metadata": {},
   "source": [
    "Now let's create a column to see the date and year when each of the loans were due."
   ]
  },
  {
   "cell_type": "code",
   "execution_count": 28,
   "id": "319e619e",
   "metadata": {},
   "outputs": [],
   "source": [
    "#add the Term of the loan to the disbursement date to get the date when the loan was due\n",
    "loan_df['loan_maturity_date'] = loan_df.apply(lambda x: x['disbursement_date'] + \n",
    "                                    pd.DateOffset(months = x['Term']), axis=1)\n",
    "# Get loan maturity year\n",
    "loan_df['loan_maturity_year'] = loan_df['loan_maturity_date'].dt.year.astype('Int64')"
   ]
  },
  {
   "cell_type": "markdown",
   "id": "8d001a2d",
   "metadata": {},
   "source": [
    "Since the dataset only goes till 2014, all loans that are due beyond 2014 will appear to be paid back eventhough they really have not been tracked. As such we will drop all those that extend beyond 2014, except for the ones that have already defaulted."
   ]
  },
  {
   "cell_type": "code",
   "execution_count": 29,
   "id": "af2c8a7b",
   "metadata": {
    "scrolled": false
   },
   "outputs": [
    {
     "data": {
      "text/html": [
       "<div>\n",
       "<style scoped>\n",
       "    .dataframe tbody tr th:only-of-type {\n",
       "        vertical-align: middle;\n",
       "    }\n",
       "\n",
       "    .dataframe tbody tr th {\n",
       "        vertical-align: top;\n",
       "    }\n",
       "\n",
       "    .dataframe thead th {\n",
       "        text-align: right;\n",
       "    }\n",
       "</style>\n",
       "<table border=\"1\" class=\"dataframe\">\n",
       "  <thead>\n",
       "    <tr style=\"text-align: right;\">\n",
       "      <th></th>\n",
       "      <th>LoanNr_ChkDgt</th>\n",
       "      <th>Name</th>\n",
       "      <th>City</th>\n",
       "      <th>State</th>\n",
       "      <th>Zip</th>\n",
       "      <th>Bank</th>\n",
       "      <th>BankState</th>\n",
       "      <th>NAICS</th>\n",
       "      <th>Term</th>\n",
       "      <th>NoEmp</th>\n",
       "      <th>...</th>\n",
       "      <th>GrAppv</th>\n",
       "      <th>SBA_Appv</th>\n",
       "      <th>approval_date</th>\n",
       "      <th>disbursement_date</th>\n",
       "      <th>chg_off_date</th>\n",
       "      <th>approval_year</th>\n",
       "      <th>disbursement_year</th>\n",
       "      <th>chg_off_year</th>\n",
       "      <th>loan_maturity_date</th>\n",
       "      <th>loan_maturity_year</th>\n",
       "    </tr>\n",
       "  </thead>\n",
       "  <tbody>\n",
       "    <tr>\n",
       "      <th>0</th>\n",
       "      <td>1000014003</td>\n",
       "      <td>ABC HOBBYCRAFT</td>\n",
       "      <td>EVANSVILLE</td>\n",
       "      <td>IN</td>\n",
       "      <td>47711</td>\n",
       "      <td>FIFTH THIRD BANK</td>\n",
       "      <td>OH</td>\n",
       "      <td>451120</td>\n",
       "      <td>84</td>\n",
       "      <td>4</td>\n",
       "      <td>...</td>\n",
       "      <td>$60,000.00</td>\n",
       "      <td>$48,000.00</td>\n",
       "      <td>1997-02-28</td>\n",
       "      <td>1999-02-28</td>\n",
       "      <td>NaT</td>\n",
       "      <td>1997</td>\n",
       "      <td>1999</td>\n",
       "      <td>&lt;NA&gt;</td>\n",
       "      <td>2006-02-28</td>\n",
       "      <td>2006</td>\n",
       "    </tr>\n",
       "    <tr>\n",
       "      <th>1</th>\n",
       "      <td>1000024006</td>\n",
       "      <td>LANDMARK BAR &amp; GRILLE (THE)</td>\n",
       "      <td>NEW PARIS</td>\n",
       "      <td>IN</td>\n",
       "      <td>46526</td>\n",
       "      <td>1ST SOURCE BANK</td>\n",
       "      <td>IN</td>\n",
       "      <td>722410</td>\n",
       "      <td>60</td>\n",
       "      <td>2</td>\n",
       "      <td>...</td>\n",
       "      <td>$40,000.00</td>\n",
       "      <td>$32,000.00</td>\n",
       "      <td>1997-02-28</td>\n",
       "      <td>1997-05-31</td>\n",
       "      <td>NaT</td>\n",
       "      <td>1997</td>\n",
       "      <td>1997</td>\n",
       "      <td>&lt;NA&gt;</td>\n",
       "      <td>2002-05-31</td>\n",
       "      <td>2002</td>\n",
       "    </tr>\n",
       "    <tr>\n",
       "      <th>2</th>\n",
       "      <td>1000034009</td>\n",
       "      <td>WHITLOCK DDS, TODD M.</td>\n",
       "      <td>BLOOMINGTON</td>\n",
       "      <td>IN</td>\n",
       "      <td>47401</td>\n",
       "      <td>GRANT COUNTY STATE BANK</td>\n",
       "      <td>IN</td>\n",
       "      <td>621210</td>\n",
       "      <td>180</td>\n",
       "      <td>7</td>\n",
       "      <td>...</td>\n",
       "      <td>$287,000.00</td>\n",
       "      <td>$215,250.00</td>\n",
       "      <td>1997-02-28</td>\n",
       "      <td>1997-12-31</td>\n",
       "      <td>NaT</td>\n",
       "      <td>1997</td>\n",
       "      <td>1997</td>\n",
       "      <td>&lt;NA&gt;</td>\n",
       "      <td>2012-12-31</td>\n",
       "      <td>2012</td>\n",
       "    </tr>\n",
       "    <tr>\n",
       "      <th>3</th>\n",
       "      <td>1000044001</td>\n",
       "      <td>BIG BUCKS PAWN &amp; JEWELRY, LLC</td>\n",
       "      <td>BROKEN ARROW</td>\n",
       "      <td>OK</td>\n",
       "      <td>74012</td>\n",
       "      <td>1ST NATL BK &amp; TR CO OF BROKEN</td>\n",
       "      <td>OK</td>\n",
       "      <td>0</td>\n",
       "      <td>60</td>\n",
       "      <td>2</td>\n",
       "      <td>...</td>\n",
       "      <td>$35,000.00</td>\n",
       "      <td>$28,000.00</td>\n",
       "      <td>1997-02-28</td>\n",
       "      <td>1997-06-30</td>\n",
       "      <td>NaT</td>\n",
       "      <td>1997</td>\n",
       "      <td>1997</td>\n",
       "      <td>&lt;NA&gt;</td>\n",
       "      <td>2002-06-30</td>\n",
       "      <td>2002</td>\n",
       "    </tr>\n",
       "    <tr>\n",
       "      <th>5</th>\n",
       "      <td>1000084002</td>\n",
       "      <td>B&amp;T SCREW MACHINE COMPANY, INC</td>\n",
       "      <td>PLAINVILLE</td>\n",
       "      <td>CT</td>\n",
       "      <td>6062</td>\n",
       "      <td>TD BANK, NATIONAL ASSOCIATION</td>\n",
       "      <td>DE</td>\n",
       "      <td>332721</td>\n",
       "      <td>120</td>\n",
       "      <td>19</td>\n",
       "      <td>...</td>\n",
       "      <td>$517,000.00</td>\n",
       "      <td>$387,750.00</td>\n",
       "      <td>1997-02-28</td>\n",
       "      <td>1997-06-30</td>\n",
       "      <td>NaT</td>\n",
       "      <td>1997</td>\n",
       "      <td>1997</td>\n",
       "      <td>&lt;NA&gt;</td>\n",
       "      <td>2007-06-30</td>\n",
       "      <td>2007</td>\n",
       "    </tr>\n",
       "  </tbody>\n",
       "</table>\n",
       "<p>5 rows × 31 columns</p>\n",
       "</div>"
      ],
      "text/plain": [
       "   LoanNr_ChkDgt                            Name          City State    Zip  \\\n",
       "0     1000014003                  ABC HOBBYCRAFT    EVANSVILLE    IN  47711   \n",
       "1     1000024006     LANDMARK BAR & GRILLE (THE)     NEW PARIS    IN  46526   \n",
       "2     1000034009           WHITLOCK DDS, TODD M.   BLOOMINGTON    IN  47401   \n",
       "3     1000044001   BIG BUCKS PAWN & JEWELRY, LLC  BROKEN ARROW    OK  74012   \n",
       "5     1000084002  B&T SCREW MACHINE COMPANY, INC    PLAINVILLE    CT   6062   \n",
       "\n",
       "                            Bank BankState   NAICS  Term  NoEmp  ...  \\\n",
       "0               FIFTH THIRD BANK        OH  451120    84      4  ...   \n",
       "1                1ST SOURCE BANK        IN  722410    60      2  ...   \n",
       "2        GRANT COUNTY STATE BANK        IN  621210   180      7  ...   \n",
       "3  1ST NATL BK & TR CO OF BROKEN        OK       0    60      2  ...   \n",
       "5  TD BANK, NATIONAL ASSOCIATION        DE  332721   120     19  ...   \n",
       "\n",
       "         GrAppv      SBA_Appv  approval_date  disbursement_date  chg_off_date  \\\n",
       "0   $60,000.00    $48,000.00      1997-02-28         1999-02-28           NaT   \n",
       "1   $40,000.00    $32,000.00      1997-02-28         1997-05-31           NaT   \n",
       "2  $287,000.00   $215,250.00      1997-02-28         1997-12-31           NaT   \n",
       "3   $35,000.00    $28,000.00      1997-02-28         1997-06-30           NaT   \n",
       "5  $517,000.00   $387,750.00      1997-02-28         1997-06-30           NaT   \n",
       "\n",
       "  approval_year disbursement_year chg_off_year loan_maturity_date  \\\n",
       "0          1997              1999         <NA>         2006-02-28   \n",
       "1          1997              1997         <NA>         2002-05-31   \n",
       "2          1997              1997         <NA>         2012-12-31   \n",
       "3          1997              1997         <NA>         2002-06-30   \n",
       "5          1997              1997         <NA>         2007-06-30   \n",
       "\n",
       "  loan_maturity_year  \n",
       "0               2006  \n",
       "1               2002  \n",
       "2               2012  \n",
       "3               2002  \n",
       "5               2007  \n",
       "\n",
       "[5 rows x 31 columns]"
      ]
     },
     "execution_count": 29,
     "metadata": {},
     "output_type": "execute_result"
    }
   ],
   "source": [
    "#calculate length of loan_df before the drop\n",
    "original_length = len(loan_df)\n",
    "#drop loans that status is Paid in Full yet extend beyond 2014\n",
    "loan_df = loan_df.drop(loan_df[(loan_df['MIS_Status'] == 'P I F') & (loan_df['loan_maturity_year'] > 2014)].index)\n",
    "\n",
    "# Loans that have no default status and extend beyond 2014 will also be dropped.\n",
    "loan_df = loan_df.drop(loan_df[(loan_df['MIS_Status'].isnull()) & (loan_df['loan_maturity_year'] > 2014)].index) #242 dicarded\n",
    "loan_df.head()"
   ]
  },
  {
   "cell_type": "code",
   "execution_count": 30,
   "id": "a3bb0db4",
   "metadata": {},
   "outputs": [
    {
     "name": "stdout",
     "output_type": "stream",
     "text": [
      "We dropped: 197957 rows\n",
      "Our new loan_df shape is (698030, 31)\n"
     ]
    }
   ],
   "source": [
    "print(f'We dropped: {original_length - len(loan_df)} rows')\n",
    "print(f'Our new loan_df shape is {loan_df.shape}')"
   ]
  },
  {
   "cell_type": "markdown",
   "id": "2b3db00e",
   "metadata": {},
   "source": [
    "Now let's check out what other columns need to be cleaned."
   ]
  },
  {
   "cell_type": "code",
   "execution_count": 31,
   "id": "7037a7b0",
   "metadata": {},
   "outputs": [
    {
     "data": {
      "text/plain": [
       "LoanNr_ChkDgt              0\n",
       "Name                      12\n",
       "City                      30\n",
       "State                     13\n",
       "Zip                        0\n",
       "Bank                    1458\n",
       "BankState               1465\n",
       "NAICS                      0\n",
       "Term                       0\n",
       "NoEmp                      0\n",
       "NewExist                  40\n",
       "CreateJob                  0\n",
       "RetainedJob                0\n",
       "FranchiseCode              0\n",
       "UrbanRural                 0\n",
       "RevLineCr               3344\n",
       "LowDoc                  1482\n",
       "DisbursementGross          0\n",
       "BalanceGross               0\n",
       "MIS_Status              1561\n",
       "ChgOffPrinGr               0\n",
       "GrAppv                     0\n",
       "SBA_Appv                   0\n",
       "approval_date              0\n",
       "disbursement_date          0\n",
       "chg_off_date          536030\n",
       "approval_year              0\n",
       "disbursement_year          0\n",
       "chg_off_year          536030\n",
       "loan_maturity_date         0\n",
       "loan_maturity_year         0\n",
       "dtype: int64"
      ]
     },
     "execution_count": 31,
     "metadata": {},
     "output_type": "execute_result"
    }
   ],
   "source": [
    "loan_df.isna().sum()"
   ]
  },
  {
   "cell_type": "markdown",
   "id": "ada4efb1",
   "metadata": {},
   "source": [
    "The count of missing values in `chg_off_date` and `chg_off_year` seem to have NaN values in all the rows that didn't default on their loans; since this is most of the dataframe this is not very useful. As such, let's create a new dataframe with only time related columns for our eda and then drop the `chg_off_date` and `chg_off_year`. Let's also drop all the other rows that contain null values being that they make up such a small percentage of our data."
   ]
  },
  {
   "cell_type": "code",
   "execution_count": 32,
   "id": "e3f93055",
   "metadata": {
    "scrolled": true
   },
   "outputs": [
    {
     "data": {
      "text/html": [
       "<div>\n",
       "<style scoped>\n",
       "    .dataframe tbody tr th:only-of-type {\n",
       "        vertical-align: middle;\n",
       "    }\n",
       "\n",
       "    .dataframe tbody tr th {\n",
       "        vertical-align: top;\n",
       "    }\n",
       "\n",
       "    .dataframe thead th {\n",
       "        text-align: right;\n",
       "    }\n",
       "</style>\n",
       "<table border=\"1\" class=\"dataframe\">\n",
       "  <thead>\n",
       "    <tr style=\"text-align: right;\">\n",
       "      <th></th>\n",
       "      <th>chg_off_date</th>\n",
       "      <th>chg_off_year</th>\n",
       "      <th>approval_date</th>\n",
       "      <th>approval_year</th>\n",
       "      <th>disbursement_date</th>\n",
       "      <th>disbursement_year</th>\n",
       "    </tr>\n",
       "  </thead>\n",
       "  <tbody>\n",
       "    <tr>\n",
       "      <th>0</th>\n",
       "      <td>NaT</td>\n",
       "      <td>&lt;NA&gt;</td>\n",
       "      <td>1997-02-28</td>\n",
       "      <td>1997</td>\n",
       "      <td>1999-02-28</td>\n",
       "      <td>1999</td>\n",
       "    </tr>\n",
       "    <tr>\n",
       "      <th>1</th>\n",
       "      <td>NaT</td>\n",
       "      <td>&lt;NA&gt;</td>\n",
       "      <td>1997-02-28</td>\n",
       "      <td>1997</td>\n",
       "      <td>1997-05-31</td>\n",
       "      <td>1997</td>\n",
       "    </tr>\n",
       "  </tbody>\n",
       "</table>\n",
       "</div>"
      ],
      "text/plain": [
       "  chg_off_date  chg_off_year approval_date  approval_year disbursement_date  \\\n",
       "0          NaT          <NA>    1997-02-28           1997        1999-02-28   \n",
       "1          NaT          <NA>    1997-02-28           1997        1997-05-31   \n",
       "\n",
       "   disbursement_year  \n",
       "0               1999  \n",
       "1               1997  "
      ]
     },
     "execution_count": 32,
     "metadata": {},
     "output_type": "execute_result"
    }
   ],
   "source": [
    "time_df = loan_df[['chg_off_date', 'chg_off_year', 'approval_date', \n",
    "                   'approval_year', 'disbursement_date', 'disbursement_year']].copy()\n",
    "time_df.head(2)"
   ]
  },
  {
   "cell_type": "code",
   "execution_count": 33,
   "id": "c927b8cd",
   "metadata": {},
   "outputs": [],
   "source": [
    "loan_df.drop(columns=['chg_off_date', 'chg_off_year'], axis=1, inplace=True)"
   ]
  },
  {
   "cell_type": "code",
   "execution_count": 35,
   "id": "0039b9db",
   "metadata": {
    "scrolled": false
   },
   "outputs": [
    {
     "data": {
      "text/plain": [
       "0"
      ]
     },
     "execution_count": 35,
     "metadata": {},
     "output_type": "execute_result"
    }
   ],
   "source": [
    "#drop null in all\n",
    "loan_df = loan_df.dropna()\n",
    "loan_df.isna().sum().sum()"
   ]
  },
  {
   "cell_type": "markdown",
   "id": "92e53422",
   "metadata": {},
   "source": [
    "Now that there are no NaN values in our loan_df, the next step is to look through all the columns and make sure that they are ready for modeling. First, we will make sure that they are the right data type. Then we will make sure there are no filler values in them. Finally, we will decide if there is a better way to group the data. After looking through all the data we have made a plan of what needs to be done, that I will map out:\n",
    "\n",
    "Note: that for all of these columns, I seperately pulled up the value counts so none of it is in this notebook.\n",
    "   - Being that the `LoanNr_ChkDgt` column is the id, we will need to change that to object type. \n",
    "   -  Being that `City` and `Zip` contain over 28,000 values with no great way to combine them, we will keep these columns for EDA and then drop them for the modeling. We will need to change the datatype on `Zip` to a string.\n",
    "   - `State` needs to be broken into dummy rows for the modeling.\n",
    "   - `Bank` has 5440 different values, we will regroup this column into a few columns based on value counts, and later one hot encode the column for modeling. \n",
    "       - If there are more than 10000 value counts(vcs) of a certain bank we will say the bank is Huge(12 counts)\n",
    "        - If more than 1000 vcs then very_large(58 counts),\n",
    "        - If more than 100 we'll say large(~500).\n",
    "        - If more than 25 then small(~1000),\n",
    "        - If more than 5 then very_small(~1600),\n",
    "        - Below 5(~2200) then tiny.\n",
    "   - `BankState`, has 5 states that appear less than 1000 times, so we will combine them as `other`. Later we will OHE the column for modeling.\n",
    "   - `NAICS` is a classification code for the business so this will also be changed to object. Additionally only the first 2 digits are important. Of which certain values mean the same thing. So we also need to create a dictionary to rename the values. Later we will get dummy columns for the whole column.\n",
    "   - `Term` which is the loan length in months will be converted to years.\n",
    "   - `NoEmp` which describes the number of employees will remain the same.\n",
    "   - `NewExist` contains only 1s and 2s whether the business is existing or new. So we'll rename the column `Existing`, and change this to a boolean value, all values that are not 1 or 2 we will drop those rows(only 702 rows).\n",
    "   - `CreateJob` and `RetainJob` give information about the number of jobs created and retained, these will remain the same.\n",
    "   - `FranchiseCode` contains the franchise codes, the codes 00000 and 00001 means that its not a franchise. Being that the vast majority of the values are not a franchise, we will convert this column to a boolean if it's a franchise.\n",
    "   - `UrbanRural` contains a 0,1 or 2 if its undefined, urban or rural. We will rename the values based on its true meaning, then we will fill the undefined values based on zipcode using a csv of urban rural codes per zipcode.\n",
    "   - `RevLineCr` states whether the business has a revolving line of credit, the values are str Y or N. We will switch these to boolean values, and try to find the best way to fill the other values\n",
    "   - `LowDoc` says whether the loan was from the LowDoc Loan Program. This program is a specific loan program that was offered by the Small Business Administration in the United States. It was designed to streamline the loan application process for small businesses by requiring less documentation compared to traditional loan programs. This column also contains Y and N, as such we will switch it to boolean values. We will drop all rows that are not Y or N(around 1500 rows).\n",
    "   - `MIS_Status` is our target column whether the loan was paid in full or defaulted, as such we will rename the column `Paid` and then change it to boolean values.\n",
    "   - The last 5 columns all contain monetary amounts with dollar signs, commas, and periods, as such they are stored as a str. We will reformat them as int values.\n",
    "   - `DisbursementGross` contains the amount given.\n",
    "   - `BalanceGross` contains the gross amount that is still due, being that there are less than 10 rows that dont contain 0, let's drop this column.\n",
    "   - `ChgOffPrinGr` represents the amount of debt that the lender considers unlikely to be fully repaid and removes it from their active accounts receivable. \n",
    "   - `GrAppv` column indicates the gross amount of money that a bank or lending institution has approved to lend to a borrower. \n",
    "   - `SBA_Appv` column indicates the specific amount that the Small Business Administration guarantees to pay back, should the borrower not."
   ]
  },
  {
   "cell_type": "markdown",
   "id": "f25eb049",
   "metadata": {},
   "source": [
    "For the first step in out cleaning let's change all the columns that are need to be stored as strings into strings. This includes the `LoanNr_ChkDgt`, and `NAICS` column."
   ]
  },
  {
   "cell_type": "code",
   "execution_count": 36,
   "id": "50e31163",
   "metadata": {},
   "outputs": [
    {
     "data": {
      "text/plain": [
       "dtype('O')"
      ]
     },
     "execution_count": 36,
     "metadata": {},
     "output_type": "execute_result"
    }
   ],
   "source": [
    "#make a list of columns to change data type\n",
    "cols = ['LoanNr_ChkDgt', 'NAICS', 'Zip']\n",
    "\n",
    "#create a for loop to change the dtypes of each to string\n",
    "for col in cols:\n",
    "    loan_df[col] = loan_df[col].astype(str)\n",
    "\n",
    "#sample NAICS\n",
    "loan_df.Zip.dtype"
   ]
  },
  {
   "cell_type": "markdown",
   "id": "6cddbab9",
   "metadata": {},
   "source": [
    "Now that we have already begun the cleaning on the `NAICS` column, let's finish it up. First, we'll strip all but the first 2 numbers, as they are the only important ones. Next, we will create a dictionary to rename the values based on the general category in which they fall."
   ]
  },
  {
   "cell_type": "code",
   "execution_count": 37,
   "id": "9e006a69",
   "metadata": {},
   "outputs": [],
   "source": [
    "#ONLY RUN THIS ONCE\n",
    "#pull out only the first 2 digits\n",
    "loan_df['NAICS'] = loan_df['NAICS'].str.slice(stop=2)"
   ]
  },
  {
   "cell_type": "code",
   "execution_count": 38,
   "id": "7fed5506",
   "metadata": {},
   "outputs": [
    {
     "data": {
      "text/plain": [
       "NAICS\n",
       "Unidentified                  160213\n",
       "Retail                        100358\n",
       "Other_services                 54754\n",
       "Construction                   53286\n",
       "Professional_services          52284\n",
       "Manufacturing                  50790\n",
       "Accomodation_Food              45081\n",
       "Wholesale                      37786\n",
       "Health_care                    37755\n",
       "Administration_service         27404\n",
       "Transportation_Warehousing     18594\n",
       "Arts                           10692\n",
       "Real_Estate                    10431\n",
       "Information                     9440\n",
       "Finance_Insurance               7178\n",
       "Agriculture                     6843\n",
       "Education                       4860\n",
       "Mining                          1494\n",
       "Utilities                        559\n",
       "Public_administration            200\n",
       "Management                       104\n",
       "Name: count, dtype: int64"
      ]
     },
     "execution_count": 38,
     "metadata": {},
     "output_type": "execute_result"
    }
   ],
   "source": [
    "#use dictionary to rename and store values together\n",
    "rename_dict = {\n",
    "    '0': 'Unidentified',\n",
    "    '11': 'Agriculture',\n",
    "    '21': 'Mining',\n",
    "    '22': 'Utilities',\n",
    "    '23': 'Construction',\n",
    "    '31': 'Manufacturing',\n",
    "    '32': 'Manufacturing',\n",
    "    '33': 'Manufacturing',\n",
    "    '42': 'Wholesale',\n",
    "    '44': 'Retail',\n",
    "    '45': 'Retail',\n",
    "    '48': 'Transportation_Warehousing',\n",
    "    '49': 'Transportation_Warehousing',\n",
    "    '51': 'Information',\n",
    "    '52': 'Finance_Insurance',\n",
    "    '53': 'Real_Estate',\n",
    "    '54': 'Professional_services',\n",
    "    '55': 'Management',\n",
    "    '56': 'Administration_service',\n",
    "    '61': 'Education',\n",
    "    '62': 'Health_care',\n",
    "    '71': 'Arts',\n",
    "    '72': 'Accomodation_Food',\n",
    "    '81': 'Other_services',\n",
    "    '92': 'Public_administration'\n",
    "}\n",
    "\n",
    "loan_df['NAICS'] = loan_df['NAICS'].replace(rename_dict)\n",
    "\n",
    "loan_df.NAICS.value_counts()"
   ]
  },
  {
   "cell_type": "markdown",
   "id": "abaea9ec",
   "metadata": {},
   "source": [
    "Next we will work on the `Bank` column. We will rename each value based on the amount of value counts in the dataframe. We'll break it down as we listed above."
   ]
  },
  {
   "cell_type": "code",
   "execution_count": 39,
   "id": "d11c1956",
   "metadata": {},
   "outputs": [],
   "source": [
    "# create ranges of value counts to relabel values\n",
    "def map_bank(count):\n",
    "    if count >= 10000:\n",
    "        return 'huge'\n",
    "    elif 1000 <= count < 10000:\n",
    "        return 'very_large'\n",
    "    elif 100 <= count < 1000:\n",
    "        return 'large'\n",
    "    elif 25 <= count < 100:\n",
    "        return 'small'\n",
    "    elif 5 <= count < 25:\n",
    "        return 'very_small'\n",
    "    else:\n",
    "        return 'tiny'\n",
    "    \n",
    "# create function to apply the mapping function to desired column column\n",
    "def rename_w_vcs(loan_df, column, vc_map):\n",
    "    # create dictionary of value counts\n",
    "    column_dict = loan_df[column].value_counts().to_dict()\n",
    "    #replace bank name with value count, then replace count with new name\n",
    "    loan_df[column] = loan_df[column].map(column_dict).map(vc_map)\n",
    "    return loan_df"
   ]
  },
  {
   "cell_type": "code",
   "execution_count": 40,
   "id": "fc6be161",
   "metadata": {},
   "outputs": [
    {
     "data": {
      "text/html": [
       "<div>\n",
       "<style scoped>\n",
       "    .dataframe tbody tr th:only-of-type {\n",
       "        vertical-align: middle;\n",
       "    }\n",
       "\n",
       "    .dataframe tbody tr th {\n",
       "        vertical-align: top;\n",
       "    }\n",
       "\n",
       "    .dataframe thead th {\n",
       "        text-align: right;\n",
       "    }\n",
       "</style>\n",
       "<table border=\"1\" class=\"dataframe\">\n",
       "  <thead>\n",
       "    <tr style=\"text-align: right;\">\n",
       "      <th></th>\n",
       "      <th>LoanNr_ChkDgt</th>\n",
       "      <th>Name</th>\n",
       "      <th>City</th>\n",
       "      <th>State</th>\n",
       "      <th>Zip</th>\n",
       "      <th>Bank</th>\n",
       "      <th>BankState</th>\n",
       "      <th>NAICS</th>\n",
       "      <th>Term</th>\n",
       "      <th>NoEmp</th>\n",
       "      <th>...</th>\n",
       "      <th>MIS_Status</th>\n",
       "      <th>ChgOffPrinGr</th>\n",
       "      <th>GrAppv</th>\n",
       "      <th>SBA_Appv</th>\n",
       "      <th>approval_date</th>\n",
       "      <th>disbursement_date</th>\n",
       "      <th>approval_year</th>\n",
       "      <th>disbursement_year</th>\n",
       "      <th>loan_maturity_date</th>\n",
       "      <th>loan_maturity_year</th>\n",
       "    </tr>\n",
       "  </thead>\n",
       "  <tbody>\n",
       "    <tr>\n",
       "      <th>0</th>\n",
       "      <td>1000014003</td>\n",
       "      <td>ABC HOBBYCRAFT</td>\n",
       "      <td>EVANSVILLE</td>\n",
       "      <td>IN</td>\n",
       "      <td>47711</td>\n",
       "      <td>very_large</td>\n",
       "      <td>OH</td>\n",
       "      <td>Retail</td>\n",
       "      <td>84</td>\n",
       "      <td>4</td>\n",
       "      <td>...</td>\n",
       "      <td>P I F</td>\n",
       "      <td>$0.00</td>\n",
       "      <td>$60,000.00</td>\n",
       "      <td>$48,000.00</td>\n",
       "      <td>1997-02-28</td>\n",
       "      <td>1999-02-28</td>\n",
       "      <td>1997</td>\n",
       "      <td>1999</td>\n",
       "      <td>2006-02-28</td>\n",
       "      <td>2006</td>\n",
       "    </tr>\n",
       "    <tr>\n",
       "      <th>1</th>\n",
       "      <td>1000024006</td>\n",
       "      <td>LANDMARK BAR &amp; GRILLE (THE)</td>\n",
       "      <td>NEW PARIS</td>\n",
       "      <td>IN</td>\n",
       "      <td>46526</td>\n",
       "      <td>large</td>\n",
       "      <td>IN</td>\n",
       "      <td>Accomodation_Food</td>\n",
       "      <td>60</td>\n",
       "      <td>2</td>\n",
       "      <td>...</td>\n",
       "      <td>P I F</td>\n",
       "      <td>$0.00</td>\n",
       "      <td>$40,000.00</td>\n",
       "      <td>$32,000.00</td>\n",
       "      <td>1997-02-28</td>\n",
       "      <td>1997-05-31</td>\n",
       "      <td>1997</td>\n",
       "      <td>1997</td>\n",
       "      <td>2002-05-31</td>\n",
       "      <td>2002</td>\n",
       "    </tr>\n",
       "    <tr>\n",
       "      <th>2</th>\n",
       "      <td>1000034009</td>\n",
       "      <td>WHITLOCK DDS, TODD M.</td>\n",
       "      <td>BLOOMINGTON</td>\n",
       "      <td>IN</td>\n",
       "      <td>47401</td>\n",
       "      <td>very_small</td>\n",
       "      <td>IN</td>\n",
       "      <td>Health_care</td>\n",
       "      <td>180</td>\n",
       "      <td>7</td>\n",
       "      <td>...</td>\n",
       "      <td>P I F</td>\n",
       "      <td>$0.00</td>\n",
       "      <td>$287,000.00</td>\n",
       "      <td>$215,250.00</td>\n",
       "      <td>1997-02-28</td>\n",
       "      <td>1997-12-31</td>\n",
       "      <td>1997</td>\n",
       "      <td>1997</td>\n",
       "      <td>2012-12-31</td>\n",
       "      <td>2012</td>\n",
       "    </tr>\n",
       "    <tr>\n",
       "      <th>3</th>\n",
       "      <td>1000044001</td>\n",
       "      <td>BIG BUCKS PAWN &amp; JEWELRY, LLC</td>\n",
       "      <td>BROKEN ARROW</td>\n",
       "      <td>OK</td>\n",
       "      <td>74012</td>\n",
       "      <td>small</td>\n",
       "      <td>OK</td>\n",
       "      <td>Unidentified</td>\n",
       "      <td>60</td>\n",
       "      <td>2</td>\n",
       "      <td>...</td>\n",
       "      <td>P I F</td>\n",
       "      <td>$0.00</td>\n",
       "      <td>$35,000.00</td>\n",
       "      <td>$28,000.00</td>\n",
       "      <td>1997-02-28</td>\n",
       "      <td>1997-06-30</td>\n",
       "      <td>1997</td>\n",
       "      <td>1997</td>\n",
       "      <td>2002-06-30</td>\n",
       "      <td>2002</td>\n",
       "    </tr>\n",
       "    <tr>\n",
       "      <th>5</th>\n",
       "      <td>1000084002</td>\n",
       "      <td>B&amp;T SCREW MACHINE COMPANY, INC</td>\n",
       "      <td>PLAINVILLE</td>\n",
       "      <td>CT</td>\n",
       "      <td>6062</td>\n",
       "      <td>very_large</td>\n",
       "      <td>DE</td>\n",
       "      <td>Manufacturing</td>\n",
       "      <td>120</td>\n",
       "      <td>19</td>\n",
       "      <td>...</td>\n",
       "      <td>P I F</td>\n",
       "      <td>$0.00</td>\n",
       "      <td>$517,000.00</td>\n",
       "      <td>$387,750.00</td>\n",
       "      <td>1997-02-28</td>\n",
       "      <td>1997-06-30</td>\n",
       "      <td>1997</td>\n",
       "      <td>1997</td>\n",
       "      <td>2007-06-30</td>\n",
       "      <td>2007</td>\n",
       "    </tr>\n",
       "    <tr>\n",
       "      <th>...</th>\n",
       "      <td>...</td>\n",
       "      <td>...</td>\n",
       "      <td>...</td>\n",
       "      <td>...</td>\n",
       "      <td>...</td>\n",
       "      <td>...</td>\n",
       "      <td>...</td>\n",
       "      <td>...</td>\n",
       "      <td>...</td>\n",
       "      <td>...</td>\n",
       "      <td>...</td>\n",
       "      <td>...</td>\n",
       "      <td>...</td>\n",
       "      <td>...</td>\n",
       "      <td>...</td>\n",
       "      <td>...</td>\n",
       "      <td>...</td>\n",
       "      <td>...</td>\n",
       "      <td>...</td>\n",
       "      <td>...</td>\n",
       "      <td>...</td>\n",
       "    </tr>\n",
       "    <tr>\n",
       "      <th>899159</th>\n",
       "      <td>9995573004</td>\n",
       "      <td>FABRIC FARMS</td>\n",
       "      <td>UPPER ARLINGTON</td>\n",
       "      <td>OH</td>\n",
       "      <td>43221</td>\n",
       "      <td>huge</td>\n",
       "      <td>IL</td>\n",
       "      <td>Retail</td>\n",
       "      <td>60</td>\n",
       "      <td>6</td>\n",
       "      <td>...</td>\n",
       "      <td>P I F</td>\n",
       "      <td>$0.00</td>\n",
       "      <td>$70,000.00</td>\n",
       "      <td>$56,000.00</td>\n",
       "      <td>1997-02-27</td>\n",
       "      <td>1997-09-30</td>\n",
       "      <td>1997</td>\n",
       "      <td>1997</td>\n",
       "      <td>2002-09-30</td>\n",
       "      <td>2002</td>\n",
       "    </tr>\n",
       "    <tr>\n",
       "      <th>899160</th>\n",
       "      <td>9995603000</td>\n",
       "      <td>FABRIC FARMS</td>\n",
       "      <td>COLUMBUS</td>\n",
       "      <td>OH</td>\n",
       "      <td>43221</td>\n",
       "      <td>huge</td>\n",
       "      <td>IL</td>\n",
       "      <td>Retail</td>\n",
       "      <td>60</td>\n",
       "      <td>6</td>\n",
       "      <td>...</td>\n",
       "      <td>P I F</td>\n",
       "      <td>$0.00</td>\n",
       "      <td>$85,000.00</td>\n",
       "      <td>$42,500.00</td>\n",
       "      <td>1997-02-27</td>\n",
       "      <td>1997-10-31</td>\n",
       "      <td>1997</td>\n",
       "      <td>1997</td>\n",
       "      <td>2002-10-31</td>\n",
       "      <td>2002</td>\n",
       "    </tr>\n",
       "    <tr>\n",
       "      <th>899161</th>\n",
       "      <td>9995613003</td>\n",
       "      <td>RADCO MANUFACTURING CO.,INC.</td>\n",
       "      <td>SANTA MARIA</td>\n",
       "      <td>CA</td>\n",
       "      <td>93455</td>\n",
       "      <td>very_large</td>\n",
       "      <td>CA</td>\n",
       "      <td>Manufacturing</td>\n",
       "      <td>108</td>\n",
       "      <td>26</td>\n",
       "      <td>...</td>\n",
       "      <td>P I F</td>\n",
       "      <td>$0.00</td>\n",
       "      <td>$300,000.00</td>\n",
       "      <td>$225,000.00</td>\n",
       "      <td>1997-02-27</td>\n",
       "      <td>1997-09-30</td>\n",
       "      <td>1997</td>\n",
       "      <td>1997</td>\n",
       "      <td>2006-09-30</td>\n",
       "      <td>2006</td>\n",
       "    </tr>\n",
       "    <tr>\n",
       "      <th>899162</th>\n",
       "      <td>9995973006</td>\n",
       "      <td>MARUTAMA HAWAII, INC.</td>\n",
       "      <td>HONOLULU</td>\n",
       "      <td>HI</td>\n",
       "      <td>96830</td>\n",
       "      <td>very_large</td>\n",
       "      <td>HI</td>\n",
       "      <td>Unidentified</td>\n",
       "      <td>60</td>\n",
       "      <td>6</td>\n",
       "      <td>...</td>\n",
       "      <td>CHGOFF</td>\n",
       "      <td>$46,383.00</td>\n",
       "      <td>$75,000.00</td>\n",
       "      <td>$60,000.00</td>\n",
       "      <td>1997-02-27</td>\n",
       "      <td>1997-03-31</td>\n",
       "      <td>1997</td>\n",
       "      <td>1997</td>\n",
       "      <td>2002-03-31</td>\n",
       "      <td>2002</td>\n",
       "    </tr>\n",
       "    <tr>\n",
       "      <th>899163</th>\n",
       "      <td>9996003010</td>\n",
       "      <td>PACIFIC TRADEWINDS FAN &amp; LIGHT</td>\n",
       "      <td>KAILUA</td>\n",
       "      <td>HI</td>\n",
       "      <td>96734</td>\n",
       "      <td>large</td>\n",
       "      <td>HI</td>\n",
       "      <td>Unidentified</td>\n",
       "      <td>48</td>\n",
       "      <td>1</td>\n",
       "      <td>...</td>\n",
       "      <td>P I F</td>\n",
       "      <td>$0.00</td>\n",
       "      <td>$30,000.00</td>\n",
       "      <td>$24,000.00</td>\n",
       "      <td>1997-02-27</td>\n",
       "      <td>1997-05-31</td>\n",
       "      <td>1997</td>\n",
       "      <td>1997</td>\n",
       "      <td>2001-05-31</td>\n",
       "      <td>2001</td>\n",
       "    </tr>\n",
       "  </tbody>\n",
       "</table>\n",
       "<p>690106 rows × 29 columns</p>\n",
       "</div>"
      ],
      "text/plain": [
       "       LoanNr_ChkDgt                            Name             City State  \\\n",
       "0         1000014003                  ABC HOBBYCRAFT       EVANSVILLE    IN   \n",
       "1         1000024006     LANDMARK BAR & GRILLE (THE)        NEW PARIS    IN   \n",
       "2         1000034009           WHITLOCK DDS, TODD M.      BLOOMINGTON    IN   \n",
       "3         1000044001   BIG BUCKS PAWN & JEWELRY, LLC     BROKEN ARROW    OK   \n",
       "5         1000084002  B&T SCREW MACHINE COMPANY, INC       PLAINVILLE    CT   \n",
       "...              ...                             ...              ...   ...   \n",
       "899159    9995573004                    FABRIC FARMS  UPPER ARLINGTON    OH   \n",
       "899160    9995603000                    FABRIC FARMS         COLUMBUS    OH   \n",
       "899161    9995613003    RADCO MANUFACTURING CO.,INC.      SANTA MARIA    CA   \n",
       "899162    9995973006           MARUTAMA HAWAII, INC.         HONOLULU    HI   \n",
       "899163    9996003010  PACIFIC TRADEWINDS FAN & LIGHT           KAILUA    HI   \n",
       "\n",
       "          Zip        Bank BankState              NAICS  Term  NoEmp  ...  \\\n",
       "0       47711  very_large        OH             Retail    84      4  ...   \n",
       "1       46526       large        IN  Accomodation_Food    60      2  ...   \n",
       "2       47401  very_small        IN        Health_care   180      7  ...   \n",
       "3       74012       small        OK       Unidentified    60      2  ...   \n",
       "5        6062  very_large        DE      Manufacturing   120     19  ...   \n",
       "...       ...         ...       ...                ...   ...    ...  ...   \n",
       "899159  43221        huge        IL             Retail    60      6  ...   \n",
       "899160  43221        huge        IL             Retail    60      6  ...   \n",
       "899161  93455  very_large        CA      Manufacturing   108     26  ...   \n",
       "899162  96830  very_large        HI       Unidentified    60      6  ...   \n",
       "899163  96734       large        HI       Unidentified    48      1  ...   \n",
       "\n",
       "        MIS_Status  ChgOffPrinGr        GrAppv      SBA_Appv  approval_date  \\\n",
       "0            P I F        $0.00    $60,000.00    $48,000.00      1997-02-28   \n",
       "1            P I F        $0.00    $40,000.00    $32,000.00      1997-02-28   \n",
       "2            P I F        $0.00   $287,000.00   $215,250.00      1997-02-28   \n",
       "3            P I F        $0.00    $35,000.00    $28,000.00      1997-02-28   \n",
       "5            P I F        $0.00   $517,000.00   $387,750.00      1997-02-28   \n",
       "...            ...           ...           ...           ...            ...   \n",
       "899159       P I F        $0.00    $70,000.00    $56,000.00      1997-02-27   \n",
       "899160       P I F        $0.00    $85,000.00    $42,500.00      1997-02-27   \n",
       "899161       P I F        $0.00   $300,000.00   $225,000.00      1997-02-27   \n",
       "899162      CHGOFF   $46,383.00    $75,000.00    $60,000.00      1997-02-27   \n",
       "899163       P I F        $0.00    $30,000.00    $24,000.00      1997-02-27   \n",
       "\n",
       "       disbursement_date approval_year disbursement_year loan_maturity_date  \\\n",
       "0             1999-02-28          1997              1999         2006-02-28   \n",
       "1             1997-05-31          1997              1997         2002-05-31   \n",
       "2             1997-12-31          1997              1997         2012-12-31   \n",
       "3             1997-06-30          1997              1997         2002-06-30   \n",
       "5             1997-06-30          1997              1997         2007-06-30   \n",
       "...                  ...           ...               ...                ...   \n",
       "899159        1997-09-30          1997              1997         2002-09-30   \n",
       "899160        1997-10-31          1997              1997         2002-10-31   \n",
       "899161        1997-09-30          1997              1997         2006-09-30   \n",
       "899162        1997-03-31          1997              1997         2002-03-31   \n",
       "899163        1997-05-31          1997              1997         2001-05-31   \n",
       "\n",
       "       loan_maturity_year  \n",
       "0                    2006  \n",
       "1                    2002  \n",
       "2                    2012  \n",
       "3                    2002  \n",
       "5                    2007  \n",
       "...                   ...  \n",
       "899159               2002  \n",
       "899160               2002  \n",
       "899161               2006  \n",
       "899162               2002  \n",
       "899163               2001  \n",
       "\n",
       "[690106 rows x 29 columns]"
      ]
     },
     "execution_count": 40,
     "metadata": {},
     "output_type": "execute_result"
    }
   ],
   "source": [
    "rename_w_vcs(loan_df, 'Bank', map_bank)"
   ]
  },
  {
   "cell_type": "code",
   "execution_count": 41,
   "id": "4fb28889",
   "metadata": {},
   "outputs": [
    {
     "name": "stdout",
     "output_type": "stream",
     "text": [
      "Bank\n",
      "huge          297228\n",
      "very_large    181716\n",
      "large         138535\n",
      "small          47610\n",
      "very_small     20950\n",
      "tiny            4067\n",
      "Name: count, dtype: int64\n"
     ]
    }
   ],
   "source": [
    "#check that it worked\n",
    "print(loan_df.Bank.value_counts())"
   ]
  },
  {
   "cell_type": "markdown",
   "id": "6adbac45",
   "metadata": {},
   "source": [
    "Great, we see that since the 12 biggest banks represented most values, they are now the largest value counts. Although there were many banks with less than 5 value counts since they appear so few times they represent a very small portion of the data. \n",
    "\n",
    "Now, let's replace the last few value counts in `BankState` with `other`."
   ]
  },
  {
   "cell_type": "code",
   "execution_count": 42,
   "id": "7d6c127c",
   "metadata": {},
   "outputs": [
    {
     "data": {
      "text/plain": [
       "BankState\n",
       "AZ       2051\n",
       "WY       1727\n",
       "WV       1720\n",
       "AK       1306\n",
       "other     145\n",
       "Name: count, dtype: int64"
      ]
     },
     "execution_count": 42,
     "metadata": {},
     "output_type": "execute_result"
    }
   ],
   "source": [
    "#create dict to replace values\n",
    "bankstate_dict = {'PR': 'other',\n",
    "                  'GU': 'other',\n",
    "                  'AN': 'other',\n",
    "                  'EN': 'other',\n",
    "                  'VI': 'other'}\n",
    "\n",
    "#replace values based on dict\n",
    "loan_df['BankState'] = loan_df['BankState'].replace(bankstate_dict)\n",
    "\n",
    "#preview the results\n",
    "loan_df.BankState.value_counts().tail(5)"
   ]
  },
  {
   "cell_type": "markdown",
   "id": "26f844c9",
   "metadata": {},
   "source": [
    "Let's convert the `Term` column from months to years by dividing by 12"
   ]
  },
  {
   "cell_type": "code",
   "execution_count": 104,
   "id": "589d6de5",
   "metadata": {},
   "outputs": [],
   "source": [
    "loan_df['Term'] = loan_df['Term']/12"
   ]
  },
  {
   "cell_type": "markdown",
   "id": "4ec12a09",
   "metadata": {},
   "source": [
    "Now let's create a new column that is a boolean if the business recieving the loan is a francise, and we will drop the old column."
   ]
  },
  {
   "cell_type": "code",
   "execution_count": 43,
   "id": "0a17fd95",
   "metadata": {},
   "outputs": [
    {
     "data": {
      "text/plain": [
       "is_franchise\n",
       "0    651851\n",
       "1     38255\n",
       "Name: count, dtype: int64"
      ]
     },
     "execution_count": 43,
     "metadata": {},
     "output_type": "execute_result"
    }
   ],
   "source": [
    "#change the 1 to a 0 and keep the 0 as 0. Change all other values to a 1. Rename the column\n",
    "loan_df['is_franchise'] = loan_df['FranchiseCode'].apply(lambda x: 0 if x in (0,1) else 1)\n",
    "\n",
    "#Drop the old row\n",
    "loan_df.drop(columns='FranchiseCode', axis=1, inplace=True)\n",
    "\n",
    "#confirm it worked\n",
    "loan_df.is_franchise.value_counts()"
   ]
  },
  {
   "cell_type": "markdown",
   "id": "a83e34de",
   "metadata": {},
   "source": [
    "Now we will move on to check out our other columns that should only contain 2 values. This includes: `NewExist`, `RevLineCr`, `LowDoc`,`MIS_Status`, and `UrbanRural`. In theory all these columns should contain 2 values. Let's see if this is indeed the case."
   ]
  },
  {
   "cell_type": "code",
   "execution_count": 44,
   "id": "97b8a371",
   "metadata": {},
   "outputs": [
    {
     "data": {
      "text/plain": [
       "[NewExist\n",
       " 1.0    488292\n",
       " 2.0    201112\n",
       " 0.0       702\n",
       " Name: count, dtype: int64,\n",
       " RevLineCr\n",
       " N    315015\n",
       " 0    183988\n",
       " Y    177585\n",
       " T     13470\n",
       " R        14\n",
       " 1        13\n",
       " `         9\n",
       " 2         5\n",
       " C         2\n",
       " ,         1\n",
       " 7         1\n",
       " .         1\n",
       " -         1\n",
       " Q         1\n",
       " Name: count, dtype: int64,\n",
       " LowDoc\n",
       " N    586215\n",
       " Y    102078\n",
       " 0       611\n",
       " C       455\n",
       " S       360\n",
       " A       341\n",
       " R        46\n",
       " Name: count, dtype: int64,\n",
       " MIS_Status\n",
       " P I F     534130\n",
       " CHGOFF    155976\n",
       " Name: count, dtype: int64,\n",
       " UrbanRural\n",
       " 1    357079\n",
       " 0    258452\n",
       " 2     74575\n",
       " Name: count, dtype: int64]"
      ]
     },
     "execution_count": 44,
     "metadata": {},
     "output_type": "execute_result"
    }
   ],
   "source": [
    "boolean_cols = ['NewExist', 'RevLineCr', 'LowDoc', 'MIS_Status', 'UrbanRural']\n",
    "\n",
    "[loan_df[col].value_counts() for col in boolean_cols]"
   ]
  },
  {
   "cell_type": "markdown",
   "id": "5297b9a4",
   "metadata": {},
   "source": [
    "For `NewExist` and `LowDoc` the vast majority of the values are are 1 and 2 or Y and N. Since we already dropped the null values in the `MIS Status` column, all the values fall into 2 categories. Being that `RevLineCr` and `UrbanRural` have a significant amount of rows with unclear values we will have to find a way to deal with those values. For now let's create a function that take in a loan_df, column, value to store as 1, and value to store as 0, list of new column name and converts the columns into boolean values, for everthing not in that list store is as a null value"
   ]
  },
  {
   "cell_type": "code",
   "execution_count": 45,
   "id": "b83f8196",
   "metadata": {},
   "outputs": [],
   "source": [
    "#create function that takes in loan_df, col name, current T, current F, and new column name\n",
    "def convert_to_bool(loan_df, col_name, T_value, F_value, new_col_name):\n",
    "    #use apply with lambda to replace values in each row with 0,1 or nan\n",
    "    loan_df[new_col_name] = loan_df[col_name].apply(lambda x: 1 if x==T_value \n",
    "                                          else(0 if x==F_value else np.nan))"
   ]
  },
  {
   "cell_type": "code",
   "execution_count": 46,
   "id": "e55e6340",
   "metadata": {},
   "outputs": [
    {
     "data": {
      "text/html": [
       "<div>\n",
       "<style scoped>\n",
       "    .dataframe tbody tr th:only-of-type {\n",
       "        vertical-align: middle;\n",
       "    }\n",
       "\n",
       "    .dataframe tbody tr th {\n",
       "        vertical-align: top;\n",
       "    }\n",
       "\n",
       "    .dataframe thead th {\n",
       "        text-align: right;\n",
       "    }\n",
       "</style>\n",
       "<table border=\"1\" class=\"dataframe\">\n",
       "  <thead>\n",
       "    <tr style=\"text-align: right;\">\n",
       "      <th></th>\n",
       "      <th>Existing</th>\n",
       "      <th>Rev_credit_line</th>\n",
       "      <th>Low_doc_loan</th>\n",
       "      <th>Paid</th>\n",
       "      <th>Urban</th>\n",
       "      <th>Rev_credit_line</th>\n",
       "    </tr>\n",
       "  </thead>\n",
       "  <tbody>\n",
       "    <tr>\n",
       "      <th>0</th>\n",
       "      <td>0.0</td>\n",
       "      <td>0.0</td>\n",
       "      <td>1.0</td>\n",
       "      <td>1</td>\n",
       "      <td>NaN</td>\n",
       "      <td>0.0</td>\n",
       "    </tr>\n",
       "    <tr>\n",
       "      <th>1</th>\n",
       "      <td>0.0</td>\n",
       "      <td>0.0</td>\n",
       "      <td>1.0</td>\n",
       "      <td>1</td>\n",
       "      <td>NaN</td>\n",
       "      <td>0.0</td>\n",
       "    </tr>\n",
       "    <tr>\n",
       "      <th>2</th>\n",
       "      <td>1.0</td>\n",
       "      <td>0.0</td>\n",
       "      <td>0.0</td>\n",
       "      <td>1</td>\n",
       "      <td>NaN</td>\n",
       "      <td>0.0</td>\n",
       "    </tr>\n",
       "    <tr>\n",
       "      <th>3</th>\n",
       "      <td>1.0</td>\n",
       "      <td>0.0</td>\n",
       "      <td>1.0</td>\n",
       "      <td>1</td>\n",
       "      <td>NaN</td>\n",
       "      <td>0.0</td>\n",
       "    </tr>\n",
       "    <tr>\n",
       "      <th>5</th>\n",
       "      <td>1.0</td>\n",
       "      <td>0.0</td>\n",
       "      <td>0.0</td>\n",
       "      <td>1</td>\n",
       "      <td>NaN</td>\n",
       "      <td>0.0</td>\n",
       "    </tr>\n",
       "  </tbody>\n",
       "</table>\n",
       "</div>"
      ],
      "text/plain": [
       "   Existing  Rev_credit_line  Low_doc_loan  Paid  Urban  Rev_credit_line\n",
       "0       0.0              0.0           1.0     1    NaN              0.0\n",
       "1       0.0              0.0           1.0     1    NaN              0.0\n",
       "2       1.0              0.0           0.0     1    NaN              0.0\n",
       "3       1.0              0.0           1.0     1    NaN              0.0\n",
       "5       1.0              0.0           0.0     1    NaN              0.0"
      ]
     },
     "execution_count": 46,
     "metadata": {},
     "output_type": "execute_result"
    }
   ],
   "source": [
    "#create list of old_cols, new_col_names, current T values, current F values\n",
    "old_cols = ['NewExist', 'RevLineCr', 'LowDoc', 'MIS_Status', 'UrbanRural', 'RevLineCr']\n",
    "new_col_names = ['Existing', 'Rev_credit_line', 'Low_doc_loan', 'Paid', \n",
    "                 'Urban', 'Rev_credit_line']\n",
    "true_values = [1.0, 'Y', 'Y', 'P I F', 1, 'Y']\n",
    "false_values = [2.0, 'N', 'N', 'CHGOFF', 2, 'N']\n",
    "\n",
    "#use zip and run a for loop with function to achieve all at once\n",
    "for col_name, T_value, F_value, new_col_name in zip(old_cols, true_values, \n",
    "                                                    false_values, new_col_names):\n",
    "    convert_to_bool(loan_df, col_name, T_value, F_value, new_col_name)\n",
    "\n",
    "#preview new cols\n",
    "loan_df[new_col_names].head()  "
   ]
  },
  {
   "cell_type": "markdown",
   "id": "06523139",
   "metadata": {},
   "source": [
    "Now let's go ahead and drop the old columns as well as the nan columns in `Existing` and `Low_doc_loan` column. "
   ]
  },
  {
   "cell_type": "code",
   "execution_count": 47,
   "id": "24735bc6",
   "metadata": {},
   "outputs": [
    {
     "name": "stdout",
     "output_type": "stream",
     "text": [
      "We dropped 2510 rows. Our loan_df is now 687596 rows long.\n"
     ]
    }
   ],
   "source": [
    "#drop old columns\n",
    "loan_df.drop(columns=['NewExist', 'RevLineCr', 'LowDoc', 'MIS_Status', 'UrbanRural'], \n",
    "        axis=1, inplace=True)\n",
    "\n",
    "#drop nan rows in Existing and Low_doc_loan column\n",
    "og_len = len(loan_df)\n",
    "loan_df.dropna(subset=['Existing', 'Low_doc_loan'], inplace=True)\n",
    "print(f'We dropped {og_len - len(loan_df)} rows. Our loan_df is now {len(loan_df)} rows long.')"
   ]
  },
  {
   "cell_type": "code",
   "execution_count": 48,
   "id": "8dcad625",
   "metadata": {},
   "outputs": [],
   "source": [
    "#CHECKPOINT. DELETE AT THE END\n",
    "fr = loan_df.copy()\n",
    "# loan_df = fr.copy()"
   ]
  },
  {
   "cell_type": "markdown",
   "id": "7ac1269b",
   "metadata": {},
   "source": [
    "Let's now fill the missing values in `UrbanRural`. We were able to obtain a breakdown of Urban and Rural by zipcode from https://www.ers.usda.gov/data-products/rural-urban-commuting-area-codes/. The data cleaning was done in in a different notebook. Let's load up the csv here."
   ]
  },
  {
   "cell_type": "code",
   "execution_count": 49,
   "id": "81465f6d",
   "metadata": {},
   "outputs": [
    {
     "data": {
      "text/html": [
       "<div>\n",
       "<style scoped>\n",
       "    .dataframe tbody tr th:only-of-type {\n",
       "        vertical-align: middle;\n",
       "    }\n",
       "\n",
       "    .dataframe tbody tr th {\n",
       "        vertical-align: top;\n",
       "    }\n",
       "\n",
       "    .dataframe thead th {\n",
       "        text-align: right;\n",
       "    }\n",
       "</style>\n",
       "<table border=\"1\" class=\"dataframe\">\n",
       "  <thead>\n",
       "    <tr style=\"text-align: right;\">\n",
       "      <th></th>\n",
       "      <th>RUCA1</th>\n",
       "      <th>Zip</th>\n",
       "    </tr>\n",
       "  </thead>\n",
       "  <tbody>\n",
       "    <tr>\n",
       "      <th>0</th>\n",
       "      <td>0</td>\n",
       "      <td>1</td>\n",
       "    </tr>\n",
       "    <tr>\n",
       "      <th>1</th>\n",
       "      <td>0</td>\n",
       "      <td>2</td>\n",
       "    </tr>\n",
       "    <tr>\n",
       "      <th>2</th>\n",
       "      <td>0</td>\n",
       "      <td>3</td>\n",
       "    </tr>\n",
       "    <tr>\n",
       "      <th>3</th>\n",
       "      <td>0</td>\n",
       "      <td>4</td>\n",
       "    </tr>\n",
       "    <tr>\n",
       "      <th>4</th>\n",
       "      <td>0</td>\n",
       "      <td>5</td>\n",
       "    </tr>\n",
       "  </tbody>\n",
       "</table>\n",
       "</div>"
      ],
      "text/plain": [
       "   RUCA1  Zip\n",
       "0      0    1\n",
       "1      0    2\n",
       "2      0    3\n",
       "3      0    4\n",
       "4      0    5"
      ]
     },
     "execution_count": 49,
     "metadata": {},
     "output_type": "execute_result"
    }
   ],
   "source": [
    "#load csv as pd dataframe\n",
    "urban_map = pd.read_csv('data/urban_codes.csv')\n",
    "urban_map.head()"
   ]
  },
  {
   "cell_type": "markdown",
   "id": "7b24fdda",
   "metadata": {},
   "source": [
    "It seems that the leading zeros in zipcode got lost in the transition. Let's fill those strings with zeros."
   ]
  },
  {
   "cell_type": "code",
   "execution_count": 50,
   "id": "d49cef6f",
   "metadata": {},
   "outputs": [
    {
     "data": {
      "text/html": [
       "<div>\n",
       "<style scoped>\n",
       "    .dataframe tbody tr th:only-of-type {\n",
       "        vertical-align: middle;\n",
       "    }\n",
       "\n",
       "    .dataframe tbody tr th {\n",
       "        vertical-align: top;\n",
       "    }\n",
       "\n",
       "    .dataframe thead th {\n",
       "        text-align: right;\n",
       "    }\n",
       "</style>\n",
       "<table border=\"1\" class=\"dataframe\">\n",
       "  <thead>\n",
       "    <tr style=\"text-align: right;\">\n",
       "      <th></th>\n",
       "      <th>RUCA1</th>\n",
       "      <th>Zip</th>\n",
       "    </tr>\n",
       "  </thead>\n",
       "  <tbody>\n",
       "    <tr>\n",
       "      <th>0</th>\n",
       "      <td>0</td>\n",
       "      <td>00001</td>\n",
       "    </tr>\n",
       "    <tr>\n",
       "      <th>1</th>\n",
       "      <td>0</td>\n",
       "      <td>00002</td>\n",
       "    </tr>\n",
       "    <tr>\n",
       "      <th>2</th>\n",
       "      <td>0</td>\n",
       "      <td>00003</td>\n",
       "    </tr>\n",
       "    <tr>\n",
       "      <th>3</th>\n",
       "      <td>0</td>\n",
       "      <td>00004</td>\n",
       "    </tr>\n",
       "    <tr>\n",
       "      <th>4</th>\n",
       "      <td>0</td>\n",
       "      <td>00005</td>\n",
       "    </tr>\n",
       "  </tbody>\n",
       "</table>\n",
       "</div>"
      ],
      "text/plain": [
       "   RUCA1    Zip\n",
       "0      0  00001\n",
       "1      0  00002\n",
       "2      0  00003\n",
       "3      0  00004\n",
       "4      0  00005"
      ]
     },
     "execution_count": 50,
     "metadata": {},
     "output_type": "execute_result"
    }
   ],
   "source": [
    "#fill the zipcode column with leading zeros\n",
    "urban_map['Zip'] = urban_map['Zip'].astype(str).str.zfill(5)\n",
    "\n",
    "#preview\n",
    "urban_map.head()"
   ]
  },
  {
   "cell_type": "markdown",
   "id": "51390776",
   "metadata": {},
   "source": [
    "Now we will join the two dataframes together on the `Zip` column. We want to include all the rows from the `loan_df`, and only the corresponding rows from the `urban_map` loan_df. As such we will do a left join."
   ]
  },
  {
   "cell_type": "code",
   "execution_count": 51,
   "id": "e31b0933",
   "metadata": {},
   "outputs": [
    {
     "data": {
      "text/html": [
       "<div>\n",
       "<style scoped>\n",
       "    .dataframe tbody tr th:only-of-type {\n",
       "        vertical-align: middle;\n",
       "    }\n",
       "\n",
       "    .dataframe tbody tr th {\n",
       "        vertical-align: top;\n",
       "    }\n",
       "\n",
       "    .dataframe thead th {\n",
       "        text-align: right;\n",
       "    }\n",
       "</style>\n",
       "<table border=\"1\" class=\"dataframe\">\n",
       "  <thead>\n",
       "    <tr style=\"text-align: right;\">\n",
       "      <th></th>\n",
       "      <th>LoanNr_ChkDgt</th>\n",
       "      <th>Name</th>\n",
       "      <th>City</th>\n",
       "      <th>State</th>\n",
       "      <th>Zip</th>\n",
       "      <th>Bank</th>\n",
       "      <th>BankState</th>\n",
       "      <th>NAICS</th>\n",
       "      <th>Term</th>\n",
       "      <th>NoEmp</th>\n",
       "      <th>...</th>\n",
       "      <th>disbursement_year</th>\n",
       "      <th>loan_maturity_date</th>\n",
       "      <th>loan_maturity_year</th>\n",
       "      <th>is_franchise</th>\n",
       "      <th>Existing</th>\n",
       "      <th>Rev_credit_line</th>\n",
       "      <th>Low_doc_loan</th>\n",
       "      <th>Paid</th>\n",
       "      <th>Urban</th>\n",
       "      <th>RUCA1</th>\n",
       "    </tr>\n",
       "  </thead>\n",
       "  <tbody>\n",
       "    <tr>\n",
       "      <th>0</th>\n",
       "      <td>1000014003</td>\n",
       "      <td>ABC HOBBYCRAFT</td>\n",
       "      <td>EVANSVILLE</td>\n",
       "      <td>IN</td>\n",
       "      <td>47711</td>\n",
       "      <td>very_large</td>\n",
       "      <td>OH</td>\n",
       "      <td>Retail</td>\n",
       "      <td>84</td>\n",
       "      <td>4</td>\n",
       "      <td>...</td>\n",
       "      <td>1999</td>\n",
       "      <td>2006-02-28</td>\n",
       "      <td>2006</td>\n",
       "      <td>0</td>\n",
       "      <td>0.0</td>\n",
       "      <td>0.0</td>\n",
       "      <td>1.0</td>\n",
       "      <td>1</td>\n",
       "      <td>NaN</td>\n",
       "      <td>1.0</td>\n",
       "    </tr>\n",
       "    <tr>\n",
       "      <th>1</th>\n",
       "      <td>1000024006</td>\n",
       "      <td>LANDMARK BAR &amp; GRILLE (THE)</td>\n",
       "      <td>NEW PARIS</td>\n",
       "      <td>IN</td>\n",
       "      <td>46526</td>\n",
       "      <td>large</td>\n",
       "      <td>IN</td>\n",
       "      <td>Accomodation_Food</td>\n",
       "      <td>60</td>\n",
       "      <td>2</td>\n",
       "      <td>...</td>\n",
       "      <td>1997</td>\n",
       "      <td>2002-05-31</td>\n",
       "      <td>2002</td>\n",
       "      <td>0</td>\n",
       "      <td>0.0</td>\n",
       "      <td>0.0</td>\n",
       "      <td>1.0</td>\n",
       "      <td>1</td>\n",
       "      <td>NaN</td>\n",
       "      <td>1.0</td>\n",
       "    </tr>\n",
       "    <tr>\n",
       "      <th>2</th>\n",
       "      <td>1000034009</td>\n",
       "      <td>WHITLOCK DDS, TODD M.</td>\n",
       "      <td>BLOOMINGTON</td>\n",
       "      <td>IN</td>\n",
       "      <td>47401</td>\n",
       "      <td>very_small</td>\n",
       "      <td>IN</td>\n",
       "      <td>Health_care</td>\n",
       "      <td>180</td>\n",
       "      <td>7</td>\n",
       "      <td>...</td>\n",
       "      <td>1997</td>\n",
       "      <td>2012-12-31</td>\n",
       "      <td>2012</td>\n",
       "      <td>0</td>\n",
       "      <td>1.0</td>\n",
       "      <td>0.0</td>\n",
       "      <td>0.0</td>\n",
       "      <td>1</td>\n",
       "      <td>NaN</td>\n",
       "      <td>1.0</td>\n",
       "    </tr>\n",
       "    <tr>\n",
       "      <th>3</th>\n",
       "      <td>1000044001</td>\n",
       "      <td>BIG BUCKS PAWN &amp; JEWELRY, LLC</td>\n",
       "      <td>BROKEN ARROW</td>\n",
       "      <td>OK</td>\n",
       "      <td>74012</td>\n",
       "      <td>small</td>\n",
       "      <td>OK</td>\n",
       "      <td>Unidentified</td>\n",
       "      <td>60</td>\n",
       "      <td>2</td>\n",
       "      <td>...</td>\n",
       "      <td>1997</td>\n",
       "      <td>2002-06-30</td>\n",
       "      <td>2002</td>\n",
       "      <td>0</td>\n",
       "      <td>1.0</td>\n",
       "      <td>0.0</td>\n",
       "      <td>1.0</td>\n",
       "      <td>1</td>\n",
       "      <td>NaN</td>\n",
       "      <td>1.0</td>\n",
       "    </tr>\n",
       "    <tr>\n",
       "      <th>4</th>\n",
       "      <td>1000084002</td>\n",
       "      <td>B&amp;T SCREW MACHINE COMPANY, INC</td>\n",
       "      <td>PLAINVILLE</td>\n",
       "      <td>CT</td>\n",
       "      <td>6062</td>\n",
       "      <td>very_large</td>\n",
       "      <td>DE</td>\n",
       "      <td>Manufacturing</td>\n",
       "      <td>120</td>\n",
       "      <td>19</td>\n",
       "      <td>...</td>\n",
       "      <td>1997</td>\n",
       "      <td>2007-06-30</td>\n",
       "      <td>2007</td>\n",
       "      <td>0</td>\n",
       "      <td>1.0</td>\n",
       "      <td>0.0</td>\n",
       "      <td>0.0</td>\n",
       "      <td>1</td>\n",
       "      <td>NaN</td>\n",
       "      <td>NaN</td>\n",
       "    </tr>\n",
       "  </tbody>\n",
       "</table>\n",
       "<p>5 rows × 30 columns</p>\n",
       "</div>"
      ],
      "text/plain": [
       "  LoanNr_ChkDgt                            Name          City State    Zip  \\\n",
       "0    1000014003                  ABC HOBBYCRAFT    EVANSVILLE    IN  47711   \n",
       "1    1000024006     LANDMARK BAR & GRILLE (THE)     NEW PARIS    IN  46526   \n",
       "2    1000034009           WHITLOCK DDS, TODD M.   BLOOMINGTON    IN  47401   \n",
       "3    1000044001   BIG BUCKS PAWN & JEWELRY, LLC  BROKEN ARROW    OK  74012   \n",
       "4    1000084002  B&T SCREW MACHINE COMPANY, INC    PLAINVILLE    CT   6062   \n",
       "\n",
       "         Bank BankState              NAICS  Term  NoEmp  ...  \\\n",
       "0  very_large        OH             Retail    84      4  ...   \n",
       "1       large        IN  Accomodation_Food    60      2  ...   \n",
       "2  very_small        IN        Health_care   180      7  ...   \n",
       "3       small        OK       Unidentified    60      2  ...   \n",
       "4  very_large        DE      Manufacturing   120     19  ...   \n",
       "\n",
       "   disbursement_year  loan_maturity_date loan_maturity_year is_franchise  \\\n",
       "0               1999          2006-02-28               2006            0   \n",
       "1               1997          2002-05-31               2002            0   \n",
       "2               1997          2012-12-31               2012            0   \n",
       "3               1997          2002-06-30               2002            0   \n",
       "4               1997          2007-06-30               2007            0   \n",
       "\n",
       "  Existing Rev_credit_line Low_doc_loan Paid Urban  RUCA1  \n",
       "0      0.0             0.0          1.0    1   NaN    1.0  \n",
       "1      0.0             0.0          1.0    1   NaN    1.0  \n",
       "2      1.0             0.0          0.0    1   NaN    1.0  \n",
       "3      1.0             0.0          1.0    1   NaN    1.0  \n",
       "4      1.0             0.0          0.0    1   NaN    NaN  \n",
       "\n",
       "[5 rows x 30 columns]"
      ]
     },
     "execution_count": 51,
     "metadata": {},
     "output_type": "execute_result"
    }
   ],
   "source": [
    "#now lets merge the dataframes with a left merge\n",
    "loan_df = loan_df.merge(urban_map, on='Zip', how='left')\n",
    "loan_df.head()"
   ]
  },
  {
   "cell_type": "markdown",
   "id": "9d2d831c",
   "metadata": {},
   "source": [
    "Now let's fill the `Urban` column with the corresponding value in the `RUCA1` column, which represents whether the zip code is Urban."
   ]
  },
  {
   "cell_type": "code",
   "execution_count": 52,
   "id": "43f0485f",
   "metadata": {},
   "outputs": [
    {
     "data": {
      "text/plain": [
       "Urban\n",
       "1.0    569029\n",
       "0.0     84408\n",
       "NaN     34159\n",
       "Name: count, dtype: int64"
      ]
     },
     "execution_count": 52,
     "metadata": {},
     "output_type": "execute_result"
    }
   ],
   "source": [
    "#fill Urban col with RUCA1 values\n",
    "loan_df['Urban'].fillna(loan_df['RUCA1'], inplace=True)\n",
    "\n",
    "#drop the RUCA1 column\n",
    "loan_df.drop('RUCA1', axis=1, inplace=True)\n",
    "\n",
    "#preview results\n",
    "loan_df.Urban.value_counts(dropna=False)"
   ]
  },
  {
   "cell_type": "markdown",
   "id": "f27a1503",
   "metadata": {},
   "source": [
    "We just went from 256940 null values to only 34159! \n",
    "Now we have to decide what we want to do with the rest of these null values. As well as the null values from the `Rev_credit_line` column. Let's pull up the percentages for each and then decide how to handle them."
   ]
  },
  {
   "cell_type": "code",
   "execution_count": 53,
   "id": "64306d5a",
   "metadata": {},
   "outputs": [
    {
     "name": "stdout",
     "output_type": "stream",
     "text": [
      "Urban null percentage :  4.97\n",
      "Revolving credit line null percentage :  28.66\n"
     ]
    }
   ],
   "source": [
    "#set value counts as percentage\n",
    "urban_counts = loan_df.Urban.value_counts(dropna=False, normalize=True)\n",
    "rev_counts = loan_df.Rev_credit_line.value_counts(dropna=False, normalize=True)\n",
    "\n",
    "#print percent null counts\n",
    "print('Urban null percentage : ', round(urban_counts.get(np.nan) * 100, 2))\n",
    "print('Revolving credit line null percentage : ', round(rev_counts.get(np.nan) * 100, 2))"
   ]
  },
  {
   "cell_type": "markdown",
   "id": "2b0793e8",
   "metadata": {},
   "source": [
    "Since we have such a large dataframe and the null counts in the `Urban` column represent such a small percentage of the data lets drop those rows"
   ]
  },
  {
   "cell_type": "code",
   "execution_count": 54,
   "id": "c16ceb8d",
   "metadata": {},
   "outputs": [
    {
     "data": {
      "text/plain": [
       "0"
      ]
     },
     "execution_count": 54,
     "metadata": {},
     "output_type": "execute_result"
    }
   ],
   "source": [
    "#drop null values in Urban column\n",
    "loan_df.dropna(subset=['Urban'], inplace=True)\n",
    "\n",
    "#preview null values in column\n",
    "loan_df.Urban.isna().sum()"
   ]
  },
  {
   "cell_type": "markdown",
   "id": "15c923d2",
   "metadata": {},
   "source": [
    "Since we are only dealing with EDA, and our fill method on `Rev_credit_line` will end up being some sort of educated guess let's move on from the column for now and finish our required cleaning for the last few columns. All of the columns: `DisbursementGross`, `ChgOffPrinGr`, `GrAppv`, and `SBA_Appv`, are number amounts but stored as a string with a dollar sign, commas and periods. As such we will strip all the punctuation and store it as a int. We will first drop the `BalanceGross` column"
   ]
  },
  {
   "cell_type": "code",
   "execution_count": 126,
   "id": "77448962",
   "metadata": {},
   "outputs": [],
   "source": [
    "loan_df = loan_df.drop('BalanceGross', axis=1)"
   ]
  },
  {
   "cell_type": "code",
   "execution_count": null,
   "id": "90ad07f6",
   "metadata": {},
   "outputs": [],
   "source": [
    "#columns to convert\n",
    "strip_columns = ['DisbursementGross', 'ChgOffPrinGr', 'GrAppv','SBA_Appv']\n",
    "\n",
    "#remove all punctuation that isn't a period, and store it as float\n",
    "for col in strip_columns:\n",
    "    loan_df[col] = loan_df[col].str.replace(r'[^\\d.]', '', regex=True).astype(float)\n",
    "    \n",
    "#preview results\n",
    "loan_df['DisbursementGross'].head()"
   ]
  },
  {
   "cell_type": "markdown",
   "id": "1071d6fe",
   "metadata": {},
   "source": [
    "We will now reset the index, and preview our columns to confirm that we are are ready for our EDA"
   ]
  },
  {
   "cell_type": "code",
   "execution_count": 127,
   "id": "fbff845c",
   "metadata": {},
   "outputs": [
    {
     "name": "stdout",
     "output_type": "stream",
     "text": [
      "<class 'pandas.core.frame.DataFrame'>\n",
      "RangeIndex: 653437 entries, 0 to 653436\n",
      "Data columns (total 28 columns):\n",
      " #   Column              Non-Null Count   Dtype         \n",
      "---  ------              --------------   -----         \n",
      " 0   LoanNr_ChkDgt       653437 non-null  object        \n",
      " 1   Name                653437 non-null  object        \n",
      " 2   City                653437 non-null  object        \n",
      " 3   State               653437 non-null  object        \n",
      " 4   Zip                 653437 non-null  object        \n",
      " 5   Bank                653437 non-null  object        \n",
      " 6   BankState           653437 non-null  object        \n",
      " 7   NAICS               653437 non-null  object        \n",
      " 8   Term                653437 non-null  float64       \n",
      " 9   NoEmp               653437 non-null  int64         \n",
      " 10  CreateJob           653437 non-null  int64         \n",
      " 11  RetainedJob         653437 non-null  int64         \n",
      " 12  DisbursementGross   653437 non-null  float64       \n",
      " 13  ChgOffPrinGr        653437 non-null  float64       \n",
      " 14  GrAppv              653437 non-null  float64       \n",
      " 15  SBA_Appv            653437 non-null  float64       \n",
      " 16  approval_date       653437 non-null  datetime64[ns]\n",
      " 17  disbursement_date   653437 non-null  datetime64[ns]\n",
      " 18  approval_year       653437 non-null  int64         \n",
      " 19  disbursement_year   653437 non-null  int64         \n",
      " 20  loan_maturity_date  653437 non-null  datetime64[ns]\n",
      " 21  loan_maturity_year  653437 non-null  Int64         \n",
      " 22  is_franchise        653437 non-null  int64         \n",
      " 23  Existing            653437 non-null  float64       \n",
      " 24  Rev_credit_line     462982 non-null  float64       \n",
      " 25  Low_doc_loan        653437 non-null  float64       \n",
      " 26  Paid                653437 non-null  int64         \n",
      " 27  Urban               653437 non-null  float64       \n",
      "dtypes: Int64(1), datetime64[ns](3), float64(9), int64(7), object(8)\n",
      "memory usage: 140.2+ MB\n"
     ]
    }
   ],
   "source": [
    "#reset index\n",
    "loan_df.reset_index(drop=True, inplace=True)\n",
    "\n",
    "#preview columns\n",
    "loan_df.info()"
   ]
  },
  {
   "cell_type": "markdown",
   "id": "ee55ac9d",
   "metadata": {},
   "source": [
    "Everything looks good, now let's begin our EDA"
   ]
  },
  {
   "cell_type": "markdown",
   "id": "1f7f2b89",
   "metadata": {},
   "source": [
    "## EDA\n",
    "\n",
    "Let's begin by checking out the spread of our data."
   ]
  },
  {
   "cell_type": "code",
   "execution_count": 129,
   "id": "b92e9b7f",
   "metadata": {},
   "outputs": [],
   "source": [
    "#perform eda on a copy\n",
    "eda_df = loan_df.copy()"
   ]
  },
  {
   "cell_type": "code",
   "execution_count": 130,
   "id": "aa1d3bfb",
   "metadata": {},
   "outputs": [
    {
     "data": {
      "text/html": [
       "<div>\n",
       "<style scoped>\n",
       "    .dataframe tbody tr th:only-of-type {\n",
       "        vertical-align: middle;\n",
       "    }\n",
       "\n",
       "    .dataframe tbody tr th {\n",
       "        vertical-align: top;\n",
       "    }\n",
       "\n",
       "    .dataframe thead th {\n",
       "        text-align: right;\n",
       "    }\n",
       "</style>\n",
       "<table border=\"1\" class=\"dataframe\">\n",
       "  <thead>\n",
       "    <tr style=\"text-align: right;\">\n",
       "      <th></th>\n",
       "      <th>Term</th>\n",
       "      <th>NoEmp</th>\n",
       "      <th>CreateJob</th>\n",
       "      <th>RetainedJob</th>\n",
       "      <th>DisbursementGross</th>\n",
       "      <th>ChgOffPrinGr</th>\n",
       "      <th>GrAppv</th>\n",
       "      <th>SBA_Appv</th>\n",
       "      <th>approval_date</th>\n",
       "      <th>disbursement_date</th>\n",
       "      <th>approval_year</th>\n",
       "      <th>disbursement_year</th>\n",
       "      <th>loan_maturity_date</th>\n",
       "      <th>loan_maturity_year</th>\n",
       "      <th>is_franchise</th>\n",
       "      <th>Existing</th>\n",
       "      <th>Rev_credit_line</th>\n",
       "      <th>Low_doc_loan</th>\n",
       "      <th>Paid</th>\n",
       "      <th>Urban</th>\n",
       "    </tr>\n",
       "  </thead>\n",
       "  <tbody>\n",
       "    <tr>\n",
       "      <th>count</th>\n",
       "      <td>653437.000000</td>\n",
       "      <td>653437.000000</td>\n",
       "      <td>653437.000000</td>\n",
       "      <td>653437.000000</td>\n",
       "      <td>6.534370e+05</td>\n",
       "      <td>6.534370e+05</td>\n",
       "      <td>6.534370e+05</td>\n",
       "      <td>6.534370e+05</td>\n",
       "      <td>653437</td>\n",
       "      <td>653437</td>\n",
       "      <td>653437.000000</td>\n",
       "      <td>653437.000000</td>\n",
       "      <td>653437</td>\n",
       "      <td>653437.0</td>\n",
       "      <td>653437.000000</td>\n",
       "      <td>653437.000000</td>\n",
       "      <td>462982.000000</td>\n",
       "      <td>653437.000000</td>\n",
       "      <td>653437.000000</td>\n",
       "      <td>653437.000000</td>\n",
       "    </tr>\n",
       "    <tr>\n",
       "      <th>mean</th>\n",
       "      <td>6.810641</td>\n",
       "      <td>10.168529</td>\n",
       "      <td>8.949822</td>\n",
       "      <td>11.404423</td>\n",
       "      <td>1.412631e+05</td>\n",
       "      <td>1.786033e+04</td>\n",
       "      <td>1.300816e+05</td>\n",
       "      <td>9.630162e+04</td>\n",
       "      <td>2001-04-19 01:25:12.173323392</td>\n",
       "      <td>2001-07-26 04:49:25.495985280</td>\n",
       "      <td>2000.799679</td>\n",
       "      <td>2001.041123</td>\n",
       "      <td>2008-05-17 16:20:04.603963392</td>\n",
       "      <td>2007.85065</td>\n",
       "      <td>0.055675</td>\n",
       "      <td>0.707987</td>\n",
       "      <td>0.380306</td>\n",
       "      <td>0.143341</td>\n",
       "      <td>0.766493</td>\n",
       "      <td>0.870825</td>\n",
       "    </tr>\n",
       "    <tr>\n",
       "      <th>min</th>\n",
       "      <td>0.000000</td>\n",
       "      <td>0.000000</td>\n",
       "      <td>0.000000</td>\n",
       "      <td>0.000000</td>\n",
       "      <td>4.000000e+03</td>\n",
       "      <td>0.000000e+00</td>\n",
       "      <td>1.000000e+03</td>\n",
       "      <td>5.000000e+02</td>\n",
       "      <td>1969-04-28 00:00:00</td>\n",
       "      <td>1969-05-22 00:00:00</td>\n",
       "      <td>1969.000000</td>\n",
       "      <td>1969.000000</td>\n",
       "      <td>1973-11-03 00:00:00</td>\n",
       "      <td>1973.0</td>\n",
       "      <td>0.000000</td>\n",
       "      <td>0.000000</td>\n",
       "      <td>0.000000</td>\n",
       "      <td>0.000000</td>\n",
       "      <td>0.000000</td>\n",
       "      <td>0.000000</td>\n",
       "    </tr>\n",
       "    <tr>\n",
       "      <th>25%</th>\n",
       "      <td>4.833333</td>\n",
       "      <td>2.000000</td>\n",
       "      <td>0.000000</td>\n",
       "      <td>0.000000</td>\n",
       "      <td>3.500000e+04</td>\n",
       "      <td>0.000000e+00</td>\n",
       "      <td>2.850000e+04</td>\n",
       "      <td>1.700000e+04</td>\n",
       "      <td>1997-01-24 00:00:00</td>\n",
       "      <td>1997-06-30 00:00:00</td>\n",
       "      <td>1997.000000</td>\n",
       "      <td>1997.000000</td>\n",
       "      <td>2005-03-31 00:00:00</td>\n",
       "      <td>2005.0</td>\n",
       "      <td>0.000000</td>\n",
       "      <td>0.000000</td>\n",
       "      <td>0.000000</td>\n",
       "      <td>0.000000</td>\n",
       "      <td>1.000000</td>\n",
       "      <td>1.000000</td>\n",
       "    </tr>\n",
       "    <tr>\n",
       "      <th>50%</th>\n",
       "      <td>7.000000</td>\n",
       "      <td>4.000000</td>\n",
       "      <td>0.000000</td>\n",
       "      <td>1.000000</td>\n",
       "      <td>7.500000e+04</td>\n",
       "      <td>0.000000e+00</td>\n",
       "      <td>6.000000e+04</td>\n",
       "      <td>4.250000e+04</td>\n",
       "      <td>2003-01-15 00:00:00</td>\n",
       "      <td>2003-03-31 00:00:00</td>\n",
       "      <td>2003.000000</td>\n",
       "      <td>2003.000000</td>\n",
       "      <td>2009-06-30 00:00:00</td>\n",
       "      <td>2009.0</td>\n",
       "      <td>0.000000</td>\n",
       "      <td>1.000000</td>\n",
       "      <td>0.000000</td>\n",
       "      <td>0.000000</td>\n",
       "      <td>1.000000</td>\n",
       "      <td>1.000000</td>\n",
       "    </tr>\n",
       "    <tr>\n",
       "      <th>75%</th>\n",
       "      <td>7.000000</td>\n",
       "      <td>9.000000</td>\n",
       "      <td>1.000000</td>\n",
       "      <td>4.000000</td>\n",
       "      <td>1.500000e+05</td>\n",
       "      <td>0.000000e+00</td>\n",
       "      <td>1.500000e+05</td>\n",
       "      <td>1.125000e+05</td>\n",
       "      <td>2005-11-04 00:00:00</td>\n",
       "      <td>2006-01-31 00:00:00</td>\n",
       "      <td>2005.000000</td>\n",
       "      <td>2006.000000</td>\n",
       "      <td>2012-03-31 00:00:00</td>\n",
       "      <td>2012.0</td>\n",
       "      <td>0.000000</td>\n",
       "      <td>1.000000</td>\n",
       "      <td>1.000000</td>\n",
       "      <td>0.000000</td>\n",
       "      <td>1.000000</td>\n",
       "      <td>1.000000</td>\n",
       "    </tr>\n",
       "    <tr>\n",
       "      <th>max</th>\n",
       "      <td>36.500000</td>\n",
       "      <td>9999.000000</td>\n",
       "      <td>8800.000000</td>\n",
       "      <td>8800.000000</td>\n",
       "      <td>1.144632e+07</td>\n",
       "      <td>3.512596e+06</td>\n",
       "      <td>5.000000e+06</td>\n",
       "      <td>4.500000e+06</td>\n",
       "      <td>2014-06-23 00:00:00</td>\n",
       "      <td>2014-06-23 00:00:00</td>\n",
       "      <td>2014.000000</td>\n",
       "      <td>2014.000000</td>\n",
       "      <td>2035-07-30 00:00:00</td>\n",
       "      <td>2035.0</td>\n",
       "      <td>1.000000</td>\n",
       "      <td>1.000000</td>\n",
       "      <td>1.000000</td>\n",
       "      <td>1.000000</td>\n",
       "      <td>1.000000</td>\n",
       "      <td>1.000000</td>\n",
       "    </tr>\n",
       "    <tr>\n",
       "      <th>std</th>\n",
       "      <td>4.133027</td>\n",
       "      <td>75.257499</td>\n",
       "      <td>256.703715</td>\n",
       "      <td>256.830938</td>\n",
       "      <td>2.089812e+05</td>\n",
       "      <td>7.465034e+04</td>\n",
       "      <td>1.964853e+05</td>\n",
       "      <td>1.507037e+05</td>\n",
       "      <td>NaN</td>\n",
       "      <td>NaN</td>\n",
       "      <td>5.768067</td>\n",
       "      <td>5.676075</td>\n",
       "      <td>NaN</td>\n",
       "      <td>5.231899</td>\n",
       "      <td>0.229293</td>\n",
       "      <td>0.454689</td>\n",
       "      <td>0.485463</td>\n",
       "      <td>0.350420</td>\n",
       "      <td>0.423062</td>\n",
       "      <td>0.335394</td>\n",
       "    </tr>\n",
       "  </tbody>\n",
       "</table>\n",
       "</div>"
      ],
      "text/plain": [
       "                Term          NoEmp      CreateJob    RetainedJob  \\\n",
       "count  653437.000000  653437.000000  653437.000000  653437.000000   \n",
       "mean        6.810641      10.168529       8.949822      11.404423   \n",
       "min         0.000000       0.000000       0.000000       0.000000   \n",
       "25%         4.833333       2.000000       0.000000       0.000000   \n",
       "50%         7.000000       4.000000       0.000000       1.000000   \n",
       "75%         7.000000       9.000000       1.000000       4.000000   \n",
       "max        36.500000    9999.000000    8800.000000    8800.000000   \n",
       "std         4.133027      75.257499     256.703715     256.830938   \n",
       "\n",
       "       DisbursementGross  ChgOffPrinGr        GrAppv      SBA_Appv  \\\n",
       "count       6.534370e+05  6.534370e+05  6.534370e+05  6.534370e+05   \n",
       "mean        1.412631e+05  1.786033e+04  1.300816e+05  9.630162e+04   \n",
       "min         4.000000e+03  0.000000e+00  1.000000e+03  5.000000e+02   \n",
       "25%         3.500000e+04  0.000000e+00  2.850000e+04  1.700000e+04   \n",
       "50%         7.500000e+04  0.000000e+00  6.000000e+04  4.250000e+04   \n",
       "75%         1.500000e+05  0.000000e+00  1.500000e+05  1.125000e+05   \n",
       "max         1.144632e+07  3.512596e+06  5.000000e+06  4.500000e+06   \n",
       "std         2.089812e+05  7.465034e+04  1.964853e+05  1.507037e+05   \n",
       "\n",
       "                       approval_date              disbursement_date  \\\n",
       "count                         653437                         653437   \n",
       "mean   2001-04-19 01:25:12.173323392  2001-07-26 04:49:25.495985280   \n",
       "min              1969-04-28 00:00:00            1969-05-22 00:00:00   \n",
       "25%              1997-01-24 00:00:00            1997-06-30 00:00:00   \n",
       "50%              2003-01-15 00:00:00            2003-03-31 00:00:00   \n",
       "75%              2005-11-04 00:00:00            2006-01-31 00:00:00   \n",
       "max              2014-06-23 00:00:00            2014-06-23 00:00:00   \n",
       "std                              NaN                            NaN   \n",
       "\n",
       "       approval_year  disbursement_year             loan_maturity_date  \\\n",
       "count  653437.000000      653437.000000                         653437   \n",
       "mean     2000.799679        2001.041123  2008-05-17 16:20:04.603963392   \n",
       "min      1969.000000        1969.000000            1973-11-03 00:00:00   \n",
       "25%      1997.000000        1997.000000            2005-03-31 00:00:00   \n",
       "50%      2003.000000        2003.000000            2009-06-30 00:00:00   \n",
       "75%      2005.000000        2006.000000            2012-03-31 00:00:00   \n",
       "max      2014.000000        2014.000000            2035-07-30 00:00:00   \n",
       "std         5.768067           5.676075                            NaN   \n",
       "\n",
       "       loan_maturity_year   is_franchise       Existing  Rev_credit_line  \\\n",
       "count            653437.0  653437.000000  653437.000000    462982.000000   \n",
       "mean           2007.85065       0.055675       0.707987         0.380306   \n",
       "min                1973.0       0.000000       0.000000         0.000000   \n",
       "25%                2005.0       0.000000       0.000000         0.000000   \n",
       "50%                2009.0       0.000000       1.000000         0.000000   \n",
       "75%                2012.0       0.000000       1.000000         1.000000   \n",
       "max                2035.0       1.000000       1.000000         1.000000   \n",
       "std              5.231899       0.229293       0.454689         0.485463   \n",
       "\n",
       "        Low_doc_loan           Paid          Urban  \n",
       "count  653437.000000  653437.000000  653437.000000  \n",
       "mean        0.143341       0.766493       0.870825  \n",
       "min         0.000000       0.000000       0.000000  \n",
       "25%         0.000000       1.000000       1.000000  \n",
       "50%         0.000000       1.000000       1.000000  \n",
       "75%         0.000000       1.000000       1.000000  \n",
       "max         1.000000       1.000000       1.000000  \n",
       "std         0.350420       0.423062       0.335394  "
      ]
     },
     "execution_count": 130,
     "metadata": {},
     "output_type": "execute_result"
    }
   ],
   "source": [
    "#pull up descriptive stats\n",
    "eda_df.describe()"
   ]
  },
  {
   "cell_type": "markdown",
   "id": "7a45c92c",
   "metadata": {},
   "source": [
    "We will now discuss some our findings:\n",
    "\n",
    "- The length of each loans ranges from 0 to 36.5 years, with most of the data falling between ~4-8, with a mean of 6.8.\n",
    "- All the columns related to number of employees are skewed right with a large amount of companies having being 10 with a max above 8000.\n",
    "- The disbursement amount column is also heavily skewed right, with a mean of around 141,000 thousand and median at 75,000. Most loans are between 35k and 150k. \n",
    "- Most businesses did previously exist before the loan; yet, were not franchises.\n",
    "- Most businesses did not have a revolving line of credit, and most were urban.\n",
    "\n",
    "Now let's graph some individual columns:\n",
    "\n",
    "graph: term and approval year normally\n",
    "graph: chgoffprin above 0\n",
    "past 2 use hist/distplot\n",
    "\n",
    "graph disbursement gross(maybe only those below 1 million)\n",
    "graph no emp below 100 \n",
    "maybe use iqr for these\n"
   ]
  },
  {
   "cell_type": "code",
   "execution_count": 146,
   "id": "e1f4cc18",
   "metadata": {},
   "outputs": [
    {
     "data": {
      "image/png": "[encoded data removed]",
      "text/plain": [
       "<Figure size 1200x600 with 6 Axes>"
      ]
     },
     "metadata": {},
     "output_type": "display_data"
    }
   ],
   "source": [
    "columns = ['Term', 'NoEmp','DisbursementGross', 'ChgOffPrinGr', 'approval_year']\n",
    "\n",
    "# Set figure size and create subplots\n",
    "fig, axs = plt.subplots(nrows=2, ncols=3, figsize=(12, 6))\n",
    "\n",
    "# Flatten axes\n",
    "axs = axs.flatten()\n",
    "\n",
    "for i, col in enumerate(columns):\n",
    "    sns.distplot(df[col], bins=20, ax=axs[i])\n",
    "    axs[i].set_title(col)\n",
    "        \n",
    "# Add a main title\n",
    "fig.suptitle('Distribution of Variables', fontsize=16)\n",
    "\n",
    "# Adjust the spacing between subplots\n",
    "plt.subplots_adjust(hspace=0.4, wspace=0.4)\n",
    "\n",
    "# Show the plot\n",
    "plt.show()"
   ]
  },
  {
   "cell_type": "code",
   "execution_count": 131,
   "id": "55d05266",
   "metadata": {},
   "outputs": [
    {
     "data": {
      "text/plain": [
       "496903"
      ]
     },
     "execution_count": 131,
     "metadata": {},
     "output_type": "execute_result"
    }
   ],
   "source": [
    "len(loan_df[loan_df.ChgOffPrinGr == 0])"
   ]
  },
  {
   "cell_type": "code",
   "execution_count": 124,
   "id": "dfff29a4",
   "metadata": {
    "scrolled": false
   },
   "outputs": [
    {
     "data": {
      "text/plain": [
       "BalanceGross\n",
       "0.0         653428\n",
       "12750.0          1\n",
       "25000.0          1\n",
       "37100.0          1\n",
       "43127.0          1\n",
       "1760.0           1\n",
       "115820.0         1\n",
       "41509.0          1\n",
       "600.0            1\n",
       "9111.0           1\n",
       "Name: count, dtype: int64"
      ]
     },
     "execution_count": 124,
     "metadata": {},
     "output_type": "execute_result"
    }
   ],
   "source": [
    "loan_df.BalanceGross.value_counts()"
   ]
  },
  {
   "cell_type": "markdown",
   "id": "6fcdaac2",
   "metadata": {},
   "source": [
    "bar graph paid value counts\n",
    "- map zipcodes on map of us. \n",
    "- vcs graph by state\n",
    "- vc graph by size of business employees\n",
    "- date time graph: paid vs approval year?\n",
    "- graph all boolean cols\n",
    "- correlation matrix\n",
    "- correlation heatmap\n",
    "- correlation with paid\n",
    "- hist graph: term, disbursement gross, chgoffpringross(maybe for non 0 vals), approval year, NoEmp\n",
    "    - default rate on these columns\n",
    "- urban vs rural. default in urban vs rural"
   ]
  },
  {
   "cell_type": "code",
   "execution_count": null,
   "id": "cb28e5f2",
   "metadata": {},
   "outputs": [],
   "source": []
  },
  {
   "cell_type": "code",
   "execution_count": null,
   "id": "30a8f619",
   "metadata": {},
   "outputs": [],
   "source": []
  },
  {
   "cell_type": "code",
   "execution_count": null,
   "id": "5ee248b0",
   "metadata": {},
   "outputs": [],
   "source": []
  },
  {
   "cell_type": "code",
   "execution_count": null,
   "id": "cc55ff66",
   "metadata": {},
   "outputs": [],
   "source": []
  },
  {
   "cell_type": "code",
   "execution_count": null,
   "id": "108ac8a6",
   "metadata": {},
   "outputs": [],
   "source": []
  },
  {
   "cell_type": "code",
   "execution_count": null,
   "id": "673e3313",
   "metadata": {},
   "outputs": [],
   "source": []
  },
  {
   "cell_type": "code",
   "execution_count": null,
   "id": "7d58a6eb",
   "metadata": {},
   "outputs": [],
   "source": []
  },
  {
   "cell_type": "code",
   "execution_count": null,
   "id": "afeb498e",
   "metadata": {},
   "outputs": [],
   "source": []
  },
  {
   "cell_type": "code",
   "execution_count": null,
   "id": "f34cce2d",
   "metadata": {},
   "outputs": [],
   "source": []
  },
  {
   "cell_type": "code",
   "execution_count": null,
   "id": "eaa388ff",
   "metadata": {},
   "outputs": [],
   "source": []
  },
  {
   "cell_type": "code",
   "execution_count": null,
   "id": "584c1e0a",
   "metadata": {},
   "outputs": [],
   "source": []
  },
  {
   "cell_type": "markdown",
   "id": "1bc2a982",
   "metadata": {},
   "source": [
    "### Preprocessing for modeling\n",
    "\n",
    "Now that we have finished the EDA let's move on to our last cleaning steps before we start modeling"
   ]
  },
  {
   "cell_type": "markdown",
   "id": "3b9fb1a0",
   "metadata": {},
   "source": [
    "Pre-modeling after the eda: \n",
    "- ohe columns: Bank, BankState, NAICS, State. \n",
    "- drop: .drop(columns=['Zip', 'City', 'LoanNr_ChkDgt','approval_date', 'disbursement_date', 'chg_off_date','loan_maturity_date', 'Name'], axis=1)\n",
    "- drop Rev_credit_line column\n",
    "- center years\n",
    "- undersample\n",
    "\n"
   ]
  },
  {
   "cell_type": "markdown",
   "id": "45ef2eca",
   "metadata": {},
   "source": [
    "Get dummy variables for str columns"
   ]
  },
  {
   "cell_type": "code",
   "execution_count": null,
   "id": "b06b41aa",
   "metadata": {},
   "outputs": [],
   "source": [
    "loan_df = dummy_cols_and_drop(loan_df, 'NAICS', 'Unidentified')\n",
    "loan_df = dummy_cols_and_drop(loan_df, 'Bank', 'tiny')\n",
    "#create dummy columns and drop the other column\n",
    "loan_df = dummy_cols_and_drop(loan_df, 'BankState', 'other')\n",
    "\n",
    "#create dummy columns and drop the DC column\n",
    "loan_df = dummy_cols_and_drop(loan_df, 'State', 'DC')\n"
   ]
  },
  {
   "cell_type": "markdown",
   "id": "906957af",
   "metadata": {},
   "source": [
    "In terms of dealing with the null values in `Rev_credit_line` let't try out a few different methods and run a very basic model to see how it does. First, we should do some EDA on the column to see if anything stands out. Maybe we can fill the null values in `Rev_credit_line` based on values in a different column that it highly correlates with. First lets pull up the null count again."
   ]
  },
  {
   "cell_type": "code",
   "execution_count": null,
   "id": "aa571aac",
   "metadata": {},
   "outputs": [],
   "source": [
    "#drop str columns\n",
    "test_loan_df = loan_df.drop(columns=['LoanNr_ChkDgt','City', 'Zip', 'Name', 'State', \n",
    "                                     'BankState', 'NAICS', 'Bank'], axis=1)\n",
    "#pull up correlations\n",
    "test_loan_df.corr()['Rev_credit_line']"
   ]
  },
  {
   "cell_type": "markdown",
   "id": "33375e39",
   "metadata": {},
   "source": [
    "We see that there is a somewhat strong correlation between `approval year` and `Rev_credit_line`, let's graph this"
   ]
  },
  {
   "cell_type": "code",
   "execution_count": 57,
   "id": "6de05767",
   "metadata": {},
   "outputs": [
    {
     "data": {
      "image/png": "[encoded data removed]",
      "text/plain": [
       "<Figure size 1500x600 with 1 Axes>"
      ]
     },
     "metadata": {},
     "output_type": "display_data"
    }
   ],
   "source": [
    "#set wide figure size\n",
    "plt.figure(figsize=(15, 6))  # Set a wider figure size (width, height)\n",
    "\n",
    "#create a countplot\n",
    "sns.countplot(x='approval_year', hue='Rev_credit_line', data=test_loan_df)\n",
    "\n",
    "#plot labels\n",
    "plt.xlabel('Approval Year')\n",
    "plt.ylabel('Count')\n",
    "plt.title('Distribution of Rev_credit_line across Approved Years')\n",
    "plt.legend(title='Rev_credit_line', labels=['No', 'Yes'])\n",
    "\n",
    "#rotate ticks to vertical so the values can be seen\n",
    "plt.xticks(rotation=90); "
   ]
  },
  {
   "cell_type": "code",
   "execution_count": 59,
   "id": "8aec6bc8",
   "metadata": {},
   "outputs": [
    {
     "data": {
      "text/plain": [
       "approval_year\n",
       "1969    0.000000\n",
       "1970    0.000000\n",
       "1971    0.000000\n",
       "1972    0.000000\n",
       "1973    0.000000\n",
       "1974    0.000000\n",
       "1975    0.000000\n",
       "1976    0.000000\n",
       "1977    0.000000\n",
       "1978    0.000000\n",
       "1979    0.000000\n",
       "1980    0.013274\n",
       "1981    0.000000\n",
       "1982    0.000000\n",
       "1983    0.007208\n",
       "1984    0.003041\n",
       "1985    0.003005\n",
       "1986    0.000000\n",
       "1987    0.000000\n",
       "1988    0.000000\n",
       "1989    0.000000\n",
       "1990    0.000000\n",
       "1991    0.000000\n",
       "1992    0.000000\n",
       "1993    0.000000\n",
       "1994    0.001151\n",
       "1995    0.009364\n",
       "1996    0.022231\n",
       "1997    0.097643\n",
       "1998    0.227407\n",
       "1999    0.349436\n",
       "2000    0.500961\n",
       "2001    0.574626\n",
       "2002    0.688506\n",
       "2003    0.800443\n",
       "2004    0.744424\n",
       "2005    0.572552\n",
       "2006    0.629030\n",
       "2007    0.571565\n",
       "2008    0.489768\n",
       "2009    0.279395\n",
       "2010    0.337116\n",
       "2011    0.543922\n",
       "2012    0.663690\n",
       "2013    0.655263\n",
       "2014    0.277778\n",
       "Name: Rev_credit_line, dtype: float64"
      ]
     },
     "execution_count": 59,
     "metadata": {},
     "output_type": "execute_result"
    }
   ],
   "source": [
    "# show Rev_credit_line by year\n",
    "grouped_data = test_loan_df.groupby('approval_year')['Rev_credit_line'].mean()\n",
    "\n",
    "pd.set_option('display.max_rows', None)\n",
    "grouped_data"
   ]
  },
  {
   "cell_type": "code",
   "execution_count": 60,
   "id": "2064b802",
   "metadata": {},
   "outputs": [],
   "source": [
    "#reset so it doesnt print all\n",
    "pd.reset_option('display.max_rows')"
   ]
  },
  {
   "cell_type": "markdown",
   "id": "598b57b3",
   "metadata": {},
   "source": [
    "Being that before the year 1994 there were almost no loans with a Revolving credit line, let's set all the null values before 1994 to 0."
   ]
  },
  {
   "cell_type": "code",
   "execution_count": 62,
   "id": "103cb3c4",
   "metadata": {},
   "outputs": [
    {
     "data": {
      "text/plain": [
       "190455"
      ]
     },
     "execution_count": 62,
     "metadata": {},
     "output_type": "execute_result"
    }
   ],
   "source": [
    "#fill null in approved year before 1994 with 0\n",
    "loan_df.loc[loan_df['approval_year'] < 1994, 'Rev_credit_line'].fillna(0, inplace=True)\n",
    "\n",
    "loan_df.Rev_credit_line.isna().sum()"
   ]
  },
  {
   "cell_type": "markdown",
   "id": "b266aeda",
   "metadata": {},
   "source": [
    "This removed almost no null counts! Let's see the null counts by year to see why that is so."
   ]
  },
  {
   "cell_type": "code",
   "execution_count": 63,
   "id": "3df8e4b5",
   "metadata": {},
   "outputs": [
    {
     "data": {
      "text/plain": [
       "approval_year\n",
       "1969        0\n",
       "1970        0\n",
       "1971        0\n",
       "1972        0\n",
       "1973        0\n",
       "1974        0\n",
       "1975        0\n",
       "1976        0\n",
       "1977        0\n",
       "1978        0\n",
       "1979        0\n",
       "1980        0\n",
       "1981        0\n",
       "1982        0\n",
       "1983        0\n",
       "1984        0\n",
       "1985        0\n",
       "1986        0\n",
       "1987        0\n",
       "1988        0\n",
       "1989        0\n",
       "1990        0\n",
       "1991        0\n",
       "1992        0\n",
       "1993        1\n",
       "1994        5\n",
       "1995     2180\n",
       "1996     6372\n",
       "1997     7473\n",
       "1998    12578\n",
       "1999    16292\n",
       "2000    16366\n",
       "2001    16763\n",
       "2002    20169\n",
       "2003    25946\n",
       "2004    26929\n",
       "2005    16411\n",
       "2006    12060\n",
       "2007     7476\n",
       "2008     3053\n",
       "2009      264\n",
       "2010       60\n",
       "2011       33\n",
       "2012       18\n",
       "2013        6\n",
       "2014        0\n",
       "Name: Rev_credit_line, dtype: int64"
      ]
     },
     "execution_count": 63,
     "metadata": {},
     "output_type": "execute_result"
    }
   ],
   "source": [
    "loan_df.groupby('approval_year')['Rev_credit_line'].apply(lambda x: x.isna().sum())"
   ]
  },
  {
   "cell_type": "markdown",
   "id": "9c9169cf",
   "metadata": {},
   "source": [
    "We see that there was only 1 null count that occured before 1994. It clearly doesn't make sense to fill all the null counts with 0 eventhough it is the overall mode, as all the null counts were at a time where there was a higher ratio of 1s in that column. There even seems that there is a correlation between the null counts and the years that Rev_credit_line had a lot of yes values. Let's fill all the null values with 1 and run our first basic model. We'll also try creating dummy columns with the null counts to see how that does. Next, lets drop all the rows with null counts in the `Rev_credit_line` column and see how that does. Finally, we will drop the whole column to see if the model does better without it."
   ]
  },
  {
   "cell_type": "code",
   "execution_count": 82,
   "id": "4db17910",
   "metadata": {},
   "outputs": [],
   "source": [
    "#drop all string or datetime columns\n",
    "fill_1_loan_df = loan_df.drop(columns=['LoanNr_ChkDgt','City', 'Zip', 'Name',\n",
    "                                       'approval_date', 'disbursement_date',\n",
    "                                       'loan_maturity_date', 'State', \n",
    "                                       'BankState', 'Bank', 'NAICS'], axis=1)\n",
    "\n",
    "#create second practice loan_df\n",
    "dummy_loan_df = fill_1_loan_df.copy()\n",
    "\n",
    "#create third practice df\n",
    "drop_loan_df = fill_1_loan_df.copy()\n",
    "\n",
    "#drop column\n",
    "drop_col_loan_df = fill_1_loan_df.copy()"
   ]
  },
  {
   "cell_type": "code",
   "execution_count": 83,
   "id": "d6cbc873",
   "metadata": {},
   "outputs": [],
   "source": [
    "# Method 1: fill all null values with 1\n",
    "fill_1_loan_df.fillna(1, inplace=True)"
   ]
  },
  {
   "cell_type": "code",
   "execution_count": 84,
   "id": "46f42b46",
   "metadata": {},
   "outputs": [],
   "source": [
    "#create a function to make dummy cols\n",
    "def dummy_cols_and_drop(df, column, new_drop_dummy_value):\n",
    "    #create dummy columns\n",
    "    encoded_cols = pd.get_dummies(df[column], prefix=column)\n",
    "    \n",
    "    #drop the unidentified column\n",
    "    encoded_cols.drop(f'{column}_{new_drop_dummy_value}', axis=1, inplace=True)\n",
    "    \n",
    "    #Switch the values from T and F to 1 and 0\n",
    "    encoded_cols = encoded_cols.astype(int)\n",
    "    \n",
    "    #concatenate new dummy loan_df with old loan_df.\n",
    "    df = pd.concat([df.drop(column, axis=1), encoded_cols], axis=1)\n",
    "    \n",
    "    return df"
   ]
  },
  {
   "cell_type": "code",
   "execution_count": 85,
   "id": "a2615ff5",
   "metadata": {},
   "outputs": [],
   "source": [
    "# method 2: create dummy columns for 1, 0 and missing\n",
    "#fill null with the string 'missing'\n",
    "dummy_loan_df.fillna('missing', inplace=True)\n",
    "\n",
    "#use function from early to create dummy values\n",
    "dummy_loan_df = dummy_cols_and_drop(dummy_loan_df, 'Rev_credit_line', 'missing')\n",
    "\n",
    "#method 3: dropna values \n",
    "drop_loan_df.dropna(inplace=True)\n",
    "\n",
    "#method 4: drop rev column\n",
    "drop_col_loan_df.drop(columns='Rev_credit_line', axis=1, inplace=True)"
   ]
  },
  {
   "cell_type": "code",
   "execution_count": 86,
   "id": "d0c58787",
   "metadata": {},
   "outputs": [],
   "source": [
    "#create function to test performance\n",
    "def run_dt(loan_df):\n",
    "    #Set X and y\n",
    "    X = loan_df.drop(columns=['Paid'])\n",
    "    y = loan_df['Paid']\n",
    "\n",
    "    # Split the data into training and testing sets\n",
    "    X_train, X_test, y_train, y_test = train_test_split(X, y, test_size=0.2, random_state=42)\n",
    "\n",
    "    # Initialize the Decision Tree Classifier\n",
    "    clf = DecisionTreeClassifier(random_state=42)\n",
    "\n",
    "    # Train the classifier on the training data\n",
    "    clf.fit(X_train, y_train)\n",
    "\n",
    "    # Make predictions on the test set\n",
    "    y_pred = clf.predict(X_test)\n",
    "\n",
    "    # Calculate the F1 score\n",
    "    f1 = f1_score(y_test, y_pred)\n",
    "\n",
    "    return print(\"F1 score:\", f1)"
   ]
  },
  {
   "cell_type": "code",
   "execution_count": 70,
   "id": "b4cc09d8",
   "metadata": {},
   "outputs": [
    {
     "name": "stdout",
     "output_type": "stream",
     "text": [
      "F1 score: 0.9906476001811748\n",
      "F1 score: 0.9903730864332659\n",
      "F1 score: 0.9907702279965054\n",
      "F1 score: 0.990663229248579\n"
     ]
    }
   ],
   "source": [
    "#create loan_df list\n",
    "loan_df_list = [fill_1_loan_df, dummy_loan_df, drop_loan_df, drop_col_loan_df]\n",
    "\n",
    "#run function on both loan_df\n",
    "for trial in loan_df_list:\n",
    "    run_dt(trial)"
   ]
  },
  {
   "cell_type": "markdown",
   "id": "a508cb17",
   "metadata": {},
   "source": [
    "Eventhough we haven't gotten to modeling, it is nice to see that we are doing a good job with the cleaning, given the extremely high F1 score. Before we set our change inplace we have one more cleaning step that may be affected by this change. Let's pull up our target column"
   ]
  },
  {
   "cell_type": "code",
   "execution_count": 71,
   "id": "1afa26f6",
   "metadata": {
    "scrolled": true
   },
   "outputs": [
    {
     "name": "stdout",
     "output_type": "stream",
     "text": [
      "Paid\n",
      "1    500855\n",
      "0    152582\n",
      "Name: count, dtype: int64\n",
      "Paid\n",
      "1    0.766493\n",
      "0    0.233507\n",
      "Name: proportion, dtype: float64\n"
     ]
    }
   ],
   "source": [
    "#preview Paid vc\n",
    "print(loan_df.Paid.value_counts())\n",
    "print(loan_df.Paid.value_counts(normalize=True))"
   ]
  },
  {
   "cell_type": "markdown",
   "id": "dcb286d7",
   "metadata": {},
   "source": [
    "We see that our dataset is slightly imbalanced, let's discuss a few different ways we can handle this. Being that we have a dataset with around 650 thousand rows and around 150 columns, it wouldnt be a good idea to use SMOTE on sauch a large dataset. Especially being that in this case the imbalance isn't that strong. it try to undersample the 1s and oversample the 0s, to see if that can improve our metrics. We will then run a basic decision tree model to see how it did. Instead, let's try using weights to see if that improves the f1 score as well as undersampling the target columns that paid back their loans.\n",
    "\n",
    "First let's try using weights"
   ]
  },
  {
   "cell_type": "code",
   "execution_count": 87,
   "id": "9e3e608b",
   "metadata": {},
   "outputs": [],
   "source": [
    "#drop null values as that performed the best\n",
    "tester_df = loan_df.dropna()"
   ]
  },
  {
   "cell_type": "code",
   "execution_count": 88,
   "id": "dea80a6c",
   "metadata": {},
   "outputs": [],
   "source": [
    "#drop columns that won't be used for model\n",
    "tester_df = tester_df.drop(columns=['Zip', 'City', 'LoanNr_ChkDgt', 'State', 'BankState',\n",
    "                           'Bank', 'NAICS', 'approval_date', 'disbursement_date',\n",
    "                           'loan_maturity_date', 'Name'], axis=1)"
   ]
  },
  {
   "cell_type": "code",
   "execution_count": 89,
   "id": "b4a4d67e",
   "metadata": {},
   "outputs": [],
   "source": [
    "#set X and y\n",
    "X = tester_df.drop(columns=['Paid'])\n",
    "y = tester_df['Paid']\n",
    "\n",
    "# Split the data into training and testing sets\n",
    "X_train, X_test, y_train, y_test = train_test_split(X, y, test_size=0.2, random_state=42)"
   ]
  },
  {
   "cell_type": "code",
   "execution_count": 90,
   "id": "2e918897",
   "metadata": {},
   "outputs": [
    {
     "name": "stdout",
     "output_type": "stream",
     "text": [
      "F1 score for None: 0.9907702279965054\n",
      "-------------------------------------------------------------------------------------\n",
      "F1 score for Balanced: 0.9902558542320853\n",
      "-------------------------------------------------------------------------------------\n",
      "F1 score for 1 to 2: 0.9903180605138823\n",
      "-------------------------------------------------------------------------------------\n",
      "F1 score for 1 to 3: 0.9904154254607427\n",
      "-------------------------------------------------------------------------------------\n",
      "F1 score for 1 to 5: 0.9903254425370718\n",
      "-------------------------------------------------------------------------------------\n",
      "F1 score for 10 to 1: 0.9912523701777015\n",
      "-------------------------------------------------------------------------------------\n"
     ]
    },
    {
     "data": {
      "text/plain": [
       "<Figure size 1000x800 with 0 Axes>"
      ]
     },
     "metadata": {},
     "output_type": "display_data"
    }
   ],
   "source": [
    "#create list of weights and name them to check out\n",
    "weights = [None, 'balanced', {1: 1, 0: 2}, {1: 1, 0: 3}, {1: 1, 0: 5}, {1: 10, 0: 1}]\n",
    "names = ['None', 'Balanced', '1 to 2', '1 to 3', '1 to 5', '10 to 1']\n",
    "\n",
    "#set color\n",
    "colors = sns.color_palette('Set2')\n",
    "\n",
    "#Set figure size\n",
    "plt.figure(figsize=(10, 8))\n",
    "\n",
    "\n",
    "for n, weight in enumerate(weights):\n",
    "    # Fit model with weights\n",
    "    dt = DecisionTreeClassifier(class_weight=weight, random_state=42)\n",
    "    model_dt = dt.fit(X_train, y_train)\n",
    "\n",
    "    # Predict \n",
    "    y_pred = dt.predict(X_test)\n",
    "    \n",
    "    # Calculate the F1 score\n",
    "    f1 = f1_score(y_test, y_pred)\n",
    "\n",
    "    #print score\n",
    "    print('F1 score for {}: {}'.format(names[n], f1))\n",
    "    print('-------------------------------------------------------------------------------------');"
   ]
  },
  {
   "cell_type": "markdown",
   "id": "9b9d8a00",
   "metadata": {},
   "source": [
    "We see that the weights had a negative affect on the model's performance. As such let's move on and try undersampling. Being that one of our potential cleaning method drops a lot of rows, let's test out the affect on undersampling on three out of our four(we won't include the dummy df as it adds a column and performed much worse than the other 3) different potential cleaning methods for our `Rev_credit_line` column."
   ]
  },
  {
   "cell_type": "code",
   "execution_count": 93,
   "id": "80d2f032",
   "metadata": {},
   "outputs": [
    {
     "name": "stdout",
     "output_type": "stream",
     "text": [
      "Paid\n",
      "0    122234\n",
      "1    122234\n",
      "Name: count, dtype: int64\n",
      "F1 score: 0.992995743490338\n",
      "\n",
      "Paid\n",
      "0    86697\n",
      "1    86697\n",
      "Name: count, dtype: int64\n",
      "F1 score: 0.99302628228704\n",
      "\n",
      "Paid\n",
      "0    122234\n",
      "1    122234\n",
      "Name: count, dtype: int64\n",
      "F1 score: 0.9930553473825156\n",
      "\n"
     ]
    }
   ],
   "source": [
    "df_list = [fill_1_loan_df, drop_loan_df, drop_col_loan_df]\n",
    "\n",
    "for index, df in enumerate(df_list):\n",
    "    X = df.drop(columns=['Paid'])\n",
    "    y = df['Paid']\n",
    "\n",
    "    # Split the data into training and testing sets\n",
    "    X_train, X_test, y_train, y_test = train_test_split(X, y, test_size=0.2, random_state=42)\n",
    "    \n",
    "    #initialize RandomUnderSampler\n",
    "    rus = RandomUnderSampler(random_state=42)\n",
    "\n",
    "    #resample\n",
    "    X_resampled, y_resampled = rus.fit_resample(X_train, y_train)\n",
    "\n",
    "    #print value counts\n",
    "    print(y_resampled.value_counts())\n",
    "\n",
    "    # Initialize the Decision Tree Classifier\n",
    "    clf = DecisionTreeClassifier(random_state=42)\n",
    "\n",
    "    # Train the classifier on the training data\n",
    "    clf.fit(X_resampled, y_resampled)\n",
    "\n",
    "    # Make predictions on the test set\n",
    "    y_pred = clf.predict(X_test)\n",
    "\n",
    "    # Calculate the F1 score\n",
    "    f1 = f1_score(y_test, y_pred)\n",
    "\n",
    "    print(\"F1 score:\",f1)\n",
    "    print();"
   ]
  },
  {
   "cell_type": "markdown",
   "id": "b0998a98",
   "metadata": {},
   "source": [
    "The undersampling definitely improved our metrics as such we will set it inplace. Additionally, we see that the best method for cleaning is to drop the `Rev_credit_line` column. "
   ]
  },
  {
   "cell_type": "code",
   "execution_count": 95,
   "id": "e7cea296",
   "metadata": {},
   "outputs": [],
   "source": [
    "modeling_df = loan_df.drop(columns='Rev_credit_line', axis=1)"
   ]
  },
  {
   "cell_type": "code",
   "execution_count": 33,
   "id": "3ef5e73c",
   "metadata": {},
   "outputs": [],
   "source": []
  },
  {
   "cell_type": "code",
   "execution_count": null,
   "id": "16752d21",
   "metadata": {},
   "outputs": [],
   "source": []
  },
  {
   "cell_type": "code",
   "execution_count": null,
   "id": "500157a4",
   "metadata": {},
   "outputs": [],
   "source": []
  },
  {
   "cell_type": "code",
   "execution_count": null,
   "id": "4bd8d30e",
   "metadata": {},
   "outputs": [],
   "source": [
    "loan_df.shape\n",
    "#this shape does include bankstate and regular state that were ohe into 50 col each"
   ]
  },
  {
   "cell_type": "code",
   "execution_count": null,
   "id": "47bc64ef",
   "metadata": {},
   "outputs": [],
   "source": []
  },
  {
   "cell_type": "code",
   "execution_count": null,
   "id": "315458e2",
   "metadata": {},
   "outputs": [],
   "source": []
  },
  {
   "cell_type": "code",
   "execution_count": null,
   "id": "ab2dc944",
   "metadata": {},
   "outputs": [],
   "source": []
  },
  {
   "cell_type": "markdown",
   "id": "ae1b87a3",
   "metadata": {},
   "source": [
    "B4 modeling deal with the class imbalance, undersample the larger side, and oversample with smote the smaller side. \n",
    "\n",
    "Also center the yr cols with the code below"
   ]
  },
  {
   "cell_type": "code",
   "execution_count": null,
   "id": "be2f20e8",
   "metadata": {},
   "outputs": [],
   "source": [
    "# Before we move let's offset all the year columns. Let's check out when is the first year of our data and subtract that number from all the year columns. Being that we will shortlyy drop the `chg_off_date` columns, we dont need to include it\n",
    "\n",
    "# #create list of yr cols\n",
    "# year_cols = ['disbursement_year', 'loan_maturity_year', 'approved_year']\n",
    "\n",
    "# #create empty list\n",
    "# years = []\n",
    "\n",
    "# #fill year list with min years\n",
    "# for col in year_cols:\n",
    "#     years.append(min(loan_df[col]))\n",
    "    \n",
    "# #set the min of the years as min\n",
    "# min_year = min(years)\n",
    "\n",
    "# #print the minimum year\n",
    "# print(min_year)\n",
    "\n",
    "# #offset the year columns\n",
    "# for col in year_cols:\n",
    "#     loan_df[col] = loan_df[col] - min_year \n",
    "\n",
    "# #preview cols\n",
    "# loan_df.approved_year.head()"
   ]
  },
  {
   "cell_type": "code",
   "execution_count": null,
   "id": "61ee6ef5",
   "metadata": {},
   "outputs": [],
   "source": []
  },
  {
   "cell_type": "code",
   "execution_count": null,
   "id": "990fda59",
   "metadata": {},
   "outputs": [],
   "source": []
  },
  {
   "cell_type": "code",
   "execution_count": null,
   "id": "0ffcb821",
   "metadata": {},
   "outputs": [],
   "source": []
  }
 ],
 "metadata": {
  "kernelspec": {
   "display_name": "Python (learn-tf)",
   "language": "python",
   "name": "tf-env"
  },
  "language_info": {
   "codemirror_mode": {
    "name": "ipython",
    "version": 3
   },
   "file_extension": ".py",
   "mimetype": "text/x-python",
   "name": "python",
   "nbconvert_exporter": "python",
   "pygments_lexer": "ipython3",
   "version": "3.9.16"
  }
 },
 "nbformat": 4,
 "nbformat_minor": 5
}
